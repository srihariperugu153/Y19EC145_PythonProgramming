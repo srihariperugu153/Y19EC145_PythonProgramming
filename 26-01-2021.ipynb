{
 "cells": [
  {
   "cell_type": "code",
   "execution_count": 6,
   "id": "separate-company",
   "metadata": {},
   "outputs": [
    {
     "name": "stdout",
     "output_type": "stream",
     "text": [
      "enter number:54\n",
      " 54 is not a perfect number\n"
     ]
    }
   ],
   "source": [
    "#Perfect number\n",
    "n=int(input(\"enter number:\"))\n",
    "s=0\n",
    "for i in range(1,n):  \n",
    "            if n%i==0:\n",
    "                s=s+i\n",
    "if s==n:\n",
    "            print('',n,'is a perfect number')\n",
    "else:\n",
    "            print('',n,'is not a perfect number')"
   ]
  },
  {
   "cell_type": "code",
   "execution_count": 19,
   "id": "considerable-thermal",
   "metadata": {},
   "outputs": [
    {
     "name": "stdout",
     "output_type": "stream",
     "text": [
      "enter table number:5\n",
      "enter table length:10\n",
      "5 X 1 = 5\n",
      "5 X 2 = 10\n",
      "5 X 3 = 15\n",
      "5 X 4 = 20\n",
      "5 X 5 = 25\n",
      "5 X 6 = 30\n",
      "5 X 7 = 35\n",
      "5 X 8 = 40\n",
      "5 X 9 = 45\n",
      "5 X 10 = 50\n"
     ]
    }
   ],
   "source": [
    "#table\n",
    "n=int(input(\"enter table number:\"))\n",
    "l=int(input(\"enter table length:\"))\n",
    "for i in range(1,l+1):\n",
    "    b=n*i\n",
    "    print('{} X {} = {}'.format(n,i,n*i))"
   ]
  },
  {
   "cell_type": "code",
   "execution_count": 17,
   "id": "compressed-photography",
   "metadata": {},
   "outputs": [
    {
     "name": "stdout",
     "output_type": "stream",
     "text": [
      "1 2 3 4 6 7 8 9 "
     ]
    }
   ],
   "source": [
    "# Break\n",
    "#Continue\n",
    "\n",
    "for i in range(1,10):\n",
    "    if i==5:\n",
    "        continue\n",
    "    print(i,end =\" \")"
   ]
  },
  {
   "cell_type": "code",
   "execution_count": 32,
   "id": "voluntary-burning",
   "metadata": {},
   "outputs": [
    {
     "name": "stdout",
     "output_type": "stream",
     "text": [
      "10\n",
      "9\n",
      "8\n",
      "7\n",
      "6\n",
      "5\n",
      "4\n",
      "3\n",
      "2\n",
      "1\n"
     ]
    }
   ],
   "source": [
    "i=10\n",
    "while i>0:\n",
    "      print(i)\n",
    "      i=i-1"
   ]
  },
  {
   "cell_type": "markdown",
   "id": "curious-cologne",
   "metadata": {},
   "source": [
    "# Functions:\n",
    "-block of code to perform some operations\n",
    "-Advantages:\n",
    "   - code reusability\n",
    "   - readabulity of the program \n",
    "   - code reduce\n",
    "   - time decrease\n",
    "- types of functions:\n",
    "  - 1. inbuilt/default functions\n",
    "      -Ex: print, sum, max, min, int, \n",
    "  - 2. User defined functions\n",
    "      - 1. function creation\n",
    "           - 1.function declaration \n",
    "                 def FunctionName(arg):\n",
    "           - 2.function definiton\n",
    "                  statements \n",
    "      - 2. functiion calling\n",
    "            by using function name\n",
    "  - 3. special functions\n",
    "      - lamda, comphrensions, iteratiors, map"
   ]
  },
  {
   "cell_type": "code",
   "execution_count": 34,
   "id": "corrected-decision",
   "metadata": {},
   "outputs": [
    {
     "data": {
      "text/plain": [
       "6"
      ]
     },
     "execution_count": 34,
     "metadata": {},
     "output_type": "execute_result"
    }
   ],
   "source": [
    "sum([1,2,3])"
   ]
  },
  {
   "cell_type": "code",
   "execution_count": 37,
   "id": "polished-picnic",
   "metadata": {},
   "outputs": [
    {
     "data": {
      "text/plain": [
       "2"
      ]
     },
     "execution_count": 37,
     "metadata": {},
     "output_type": "execute_result"
    }
   ],
   "source": [
    "min([3,2,5])"
   ]
  },
  {
   "cell_type": "code",
   "execution_count": 49,
   "id": "interior-proxy",
   "metadata": {},
   "outputs": [
    {
     "name": "stdout",
     "output_type": "stream",
     "text": [
      "9\n",
      "4\n"
     ]
    }
   ],
   "source": [
    "#function creation:\n",
    "def add(a,b):\n",
    "    print(a+b)\n",
    "    return a\n",
    "#function calling\n",
    "a=add(4,5)\n",
    "print(a)"
   ]
  },
  {
   "cell_type": "code",
   "execution_count": 40,
   "id": "suspended-rwanda",
   "metadata": {},
   "outputs": [
    {
     "name": "stdout",
     "output_type": "stream",
     "text": [
      "5\n"
     ]
    }
   ],
   "source": [
    "def subtract(a,b):\n",
    "    print(a-b)\n",
    "subtract(9,4)"
   ]
  },
  {
   "cell_type": "markdown",
   "id": "brutal-myanmar",
   "metadata": {},
   "source": [
    "# types of user defined functions\n",
    "# based on return value\n",
    "  1. without arg and without return value\n",
    "  2. without arg and with return value\n",
    "  3. with arg and without return value\n",
    "  4. with arg and with return value"
   ]
  },
  {
   "cell_type": "code",
   "execution_count": 51,
   "id": "amber-bradley",
   "metadata": {},
   "outputs": [
    {
     "name": "stdout",
     "output_type": "stream",
     "text": [
      " enter n value:5\n",
      " 5 is a factor of 10\n",
      " enter n value:2\n",
      " 2 is a factor of 10\n",
      "2\n"
     ]
    }
   ],
   "source": [
    " #1. without arg and without return value\n",
    "def f1():\n",
    "    n=int(input(\" enter n value:\"))\n",
    "    if 10%n==0:\n",
    "        print('',n,'is a factor of 10')\n",
    "    else:\n",
    "         print('',n,'is not a factor of 10')\n",
    "    return n\n",
    "f1()\n",
    "n=f1()     \n",
    "print(n)"
   ]
  },
  {
   "cell_type": "code",
   "execution_count": 53,
   "id": "wired-departure",
   "metadata": {},
   "outputs": [
    {
     "name": "stdout",
     "output_type": "stream",
     "text": [
      "enter n1 value:1\n",
      "enter n2 value:2\n",
      "6\n"
     ]
    }
   ],
   "source": [
    "#2. without arg and with return value\n",
    "def f2():\n",
    "    n1= int(input('enter n1 value:'))\n",
    "    n2= int(input('enter n2 value:'))\n",
    "    return n1,n2,n1+n2\n",
    "a,b,c =f2()\n",
    "print(a+b+c)"
   ]
  },
  {
   "cell_type": "code",
   "execution_count": 54,
   "id": "elementary-asbestos",
   "metadata": {},
   "outputs": [
    {
     "name": "stdout",
     "output_type": "stream",
     "text": [
      "enter n1 value:1\n",
      "enter n2 value:2\n",
      "3\n",
      "-1\n",
      "2\n",
      "0.5\n"
     ]
    }
   ],
   "source": [
    "#2. without arg and with return value\n",
    "def f2():\n",
    "    n1= int(input('enter n1 value:'))\n",
    "    n2= int(input('enter n2 value:'))\n",
    "    return n1+n2,n1-n2,n1*n2,n1/n2\n",
    "add,sub,mul,div =f2()\n",
    "print(add)\n",
    "print(sub)\n",
    "print(mul)\n",
    "print(div)\n"
   ]
  },
  {
   "cell_type": "code",
   "execution_count": 56,
   "id": "irish-pavilion",
   "metadata": {},
   "outputs": [
    {
     "name": "stdout",
     "output_type": "stream",
     "text": [
      "enter n1 value:5\n",
      "enter n2 value:5\n",
      "addition : 10\n",
      "subtraction : 0\n",
      "multiplication : 25\n",
      "division : 1.0\n"
     ]
    }
   ],
   "source": [
    " # 3. with arg and without return value\n",
    "n1= int(input('enter n1 value:'))\n",
    "n2= int(input('enter n2 value:'))  \n",
    "def f2(n1,n2):\n",
    "    print('addition :',n1+n2)\n",
    "    print('subtraction :',n1-n2)\n",
    "    print('multiplication :',n1*n2)\n",
    "    print('division :',n1/n2)\n",
    "f2(n1,n2)"
   ]
  },
  {
   "cell_type": "code",
   "execution_count": null,
   "id": "proved-emission",
   "metadata": {},
   "outputs": [],
   "source": []
  }
 ],
 "metadata": {
  "kernelspec": {
   "display_name": "Python 3",
   "language": "python",
   "name": "python3"
  },
  "language_info": {
   "codemirror_mode": {
    "name": "ipython",
    "version": 3
   },
   "file_extension": ".py",
   "mimetype": "text/x-python",
   "name": "python",
   "nbconvert_exporter": "python",
   "pygments_lexer": "ipython3",
   "version": "3.8.0"
  }
 },
 "nbformat": 4,
 "nbformat_minor": 5
}
