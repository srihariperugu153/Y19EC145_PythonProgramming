{
 "cells": [
  {
   "cell_type": "markdown",
   "id": "cooperative-subsection",
   "metadata": {},
   "source": [
    "# based on arguments\n",
    "# 1. default arg\n",
    "# 2. required or positional arg\n",
    "# 3. variable length \n",
    "# 4. keyword arg"
   ]
  },
  {
   "cell_type": "code",
   "execution_count": 7,
   "id": "earned-baseball",
   "metadata": {},
   "outputs": [
    {
     "data": {
      "text/plain": [
       "200"
      ]
     },
     "execution_count": 7,
     "metadata": {},
     "output_type": "execute_result"
    }
   ],
   "source": [
    "# 1. default arg:\n",
    "def default(a=10,b=20):\n",
    "   return a*b\n",
    "default()\n",
    "#default(30)"
   ]
  },
  {
   "cell_type": "code",
   "execution_count": 10,
   "id": "indonesian-original",
   "metadata": {},
   "outputs": [
    {
     "data": {
      "text/plain": [
       "600"
      ]
     },
     "execution_count": 10,
     "metadata": {},
     "output_type": "execute_result"
    }
   ],
   "source": [
    "# 1. default arg:\n",
    "def default(a=10,b=20):\n",
    "    return a*b\n",
    "default(30)"
   ]
  },
  {
   "cell_type": "code",
   "execution_count": 11,
   "id": "environmental-verification",
   "metadata": {},
   "outputs": [
    {
     "data": {
      "text/plain": [
       "1200"
      ]
     },
     "execution_count": 11,
     "metadata": {},
     "output_type": "execute_result"
    }
   ],
   "source": [
    "# 1. default arg:\n",
    "def default(a=10,b=20):\n",
    "    return a*b\n",
    "default(30,40)"
   ]
  },
  {
   "cell_type": "code",
   "execution_count": 14,
   "id": "bacterial-slovenia",
   "metadata": {},
   "outputs": [
    {
     "data": {
      "text/plain": [
       "93"
      ]
     },
     "execution_count": 14,
     "metadata": {},
     "output_type": "execute_result"
    }
   ],
   "source": [
    "# 2. required or positional arg\n",
    "def Required(a,b =20, c=30):\n",
    "    return a**2+2*b+c\n",
    "Required(9,5,2)"
   ]
  },
  {
   "cell_type": "code",
   "execution_count": 16,
   "id": "introductory-franchise",
   "metadata": {},
   "outputs": [
    {
     "data": {
      "text/plain": [
       "38"
      ]
     },
     "execution_count": 16,
     "metadata": {},
     "output_type": "execute_result"
    }
   ],
   "source": [
    "# 2. required or positional arg\n",
    "def Required(c,a,b =20):\n",
    "    return a**2+2*b+c\n",
    "Required(9,5,2)"
   ]
  },
  {
   "cell_type": "code",
   "execution_count": 18,
   "id": "cloudy-hardware",
   "metadata": {},
   "outputs": [
    {
     "data": {
      "text/plain": [
       "30"
      ]
     },
     "execution_count": 18,
     "metadata": {},
     "output_type": "execute_result"
    }
   ],
   "source": [
    "# 3. variable length \n",
    "def var_len(a,b=20,*c):\n",
    "    return a+b+sum(c)\n",
    "var_len(10)\n",
    "\n"
   ]
  },
  {
   "cell_type": "code",
   "execution_count": 19,
   "id": "blond-crime",
   "metadata": {},
   "outputs": [
    {
     "data": {
      "text/plain": [
       "(1, 2, 3, 4)"
      ]
     },
     "execution_count": 19,
     "metadata": {},
     "output_type": "execute_result"
    }
   ],
   "source": [
    "a=1,2,3,4\n",
    "a"
   ]
  },
  {
   "cell_type": "code",
   "execution_count": 22,
   "id": "polish-mexican",
   "metadata": {},
   "outputs": [
    {
     "data": {
      "text/plain": [
       "20"
      ]
     },
     "execution_count": 22,
     "metadata": {},
     "output_type": "execute_result"
    }
   ],
   "source": [
    "# 3. variable length \n",
    "def var_len(a,b=20,*c):\n",
    "    return a+b+sum(c)\n",
    "var_len(10,10)\n"
   ]
  },
  {
   "cell_type": "code",
   "execution_count": 25,
   "id": "living-pottery",
   "metadata": {},
   "outputs": [
    {
     "data": {
      "text/plain": [
       "30"
      ]
     },
     "execution_count": 25,
     "metadata": {},
     "output_type": "execute_result"
    }
   ],
   "source": [
    "# 3. variable length \n",
    "def var_len(a,b=20,*c):\n",
    "    return a+b+sum(c)\n",
    "var_len(10,10,10)\n"
   ]
  },
  {
   "cell_type": "code",
   "execution_count": 24,
   "id": "destroyed-brook",
   "metadata": {},
   "outputs": [
    {
     "data": {
      "text/plain": [
       "40"
      ]
     },
     "execution_count": 24,
     "metadata": {},
     "output_type": "execute_result"
    }
   ],
   "source": [
    "# 3. variable length \n",
    "def var_len(a,b=20,*c):\n",
    "    return a+b+sum(c)\n",
    "var_len(10)\n"
   ]
  },
  {
   "cell_type": "code",
   "execution_count": 29,
   "id": "adjacent-delivery",
   "metadata": {},
   "outputs": [
    {
     "name": "stdout",
     "output_type": "stream",
     "text": [
      "(10, 10, 10)\n"
     ]
    },
    {
     "data": {
      "text/plain": [
       "60"
      ]
     },
     "execution_count": 29,
     "metadata": {},
     "output_type": "execute_result"
    }
   ],
   "source": [
    "# 3. variable length \n",
    "def var_len(a,*c,b=20):\n",
    "    print(c)\n",
    "    return a+b+sum(c)\n",
    "var_len(10,10,10,10)\n"
   ]
  },
  {
   "cell_type": "code",
   "execution_count": 45,
   "id": "surgical-torture",
   "metadata": {},
   "outputs": [
    {
     "name": "stdout",
     "output_type": "stream",
     "text": [
      "10 20 (10, 10)\n"
     ]
    }
   ],
   "source": [
    "# 3. variable length \n",
    "def var_len(a,*c,b=20):\n",
    "    print(a,b,c)\n",
    "    return a+b+sum(c)\n",
    "a=var_len(10,10,10)\n",
    "#print(a,b,c)\n"
   ]
  },
  {
   "cell_type": "code",
   "execution_count": 50,
   "id": "geographic-mathematics",
   "metadata": {},
   "outputs": [
    {
     "name": "stdout",
     "output_type": "stream",
     "text": [
      "10 20 (10, 10)\n"
     ]
    }
   ],
   "source": [
    "# 3. variable length \n",
    "def var_len(a,*c,b=20):\n",
    "   # print(a,b,c)\n",
    "    return a,b,c\n",
    "a,b,c = var_len(10,10,10)\n",
    "print(a,b,c)"
   ]
  },
  {
   "cell_type": "code",
   "execution_count": 60,
   "id": "settled-quebec",
   "metadata": {},
   "outputs": [
    {
     "name": "stdout",
     "output_type": "stream",
     "text": [
      "90\n"
     ]
    }
   ],
   "source": [
    "# 3. variable length \n",
    "def var_len(a=20,b=20,*c):\n",
    "  \n",
    "    return a+b+sum(c)\n",
    "result=var_len(20,20,10)\n",
    "\n",
    "def var_len1(d=20,e=20):\n",
    "    result =var_len(20,20,10)\n",
    "    \n",
    "    return result+d+e\n",
    "result=var_len1()\n",
    "print(result)\n",
    "\n",
    "\n"
   ]
  },
  {
   "cell_type": "code",
   "execution_count": 61,
   "id": "starting-washington",
   "metadata": {},
   "outputs": [
    {
     "name": "stdout",
     "output_type": "stream",
     "text": [
      "10 233 (67, 89)\n"
     ]
    }
   ],
   "source": [
    "#4. keyword arg\n",
    "def var_len(a,*c,b=20):\n",
    "    \n",
    "    return a,b,c\n",
    "a,b,c = var_len(10,67,89,b=233)\n",
    "print(a,b,c)"
   ]
  },
  {
   "cell_type": "code",
   "execution_count": 62,
   "id": "shared-outreach",
   "metadata": {},
   "outputs": [
    {
     "data": {
      "text/plain": [
       "{'name': ['abc', 'hello', 'apssde']}"
      ]
     },
     "execution_count": 62,
     "metadata": {},
     "output_type": "execute_result"
    }
   ],
   "source": [
    "def key_word(**name):\n",
    "    return name\n",
    "key_word(name =['abc','hello','apssde'])"
   ]
  },
  {
   "cell_type": "code",
   "execution_count": 68,
   "id": "swiss-boundary",
   "metadata": {},
   "outputs": [
    {
     "data": {
      "text/plain": [
       "True"
      ]
     },
     "execution_count": 68,
     "metadata": {},
     "output_type": "execute_result"
    }
   ],
   "source": [
    "def Is_perfect(n):\n",
    "    s=0\n",
    "    for i in range(1,n):\n",
    "        if n%i==0:\n",
    "            s=s+i\n",
    "    if s==n:\n",
    "            return True\n",
    "    else:\n",
    "            return False\n",
    "Is_perfect(28)\n",
    "        "
   ]
  },
  {
   "cell_type": "code",
   "execution_count": 71,
   "id": "played-franchise",
   "metadata": {},
   "outputs": [
    {
     "name": "stdout",
     "output_type": "stream",
     "text": [
      "6\n",
      "28\n",
      "496\n"
     ]
    }
   ],
   "source": [
    "def perfect_gen(start,end):\n",
    "    for i in range(start,end+1):\n",
    "        if Is_perfect(i):\n",
    "            print(i)\n",
    "perfect_gen(start=1,end=1000)\n",
    "    \n",
    "    \n",
    "    "
   ]
  },
  {
   "cell_type": "code",
   "execution_count": 75,
   "id": "superior-socket",
   "metadata": {},
   "outputs": [
    {
     "name": "stdout",
     "output_type": "stream",
     "text": [
      "notPrime\n"
     ]
    }
   ],
   "source": [
    "def is_prime(n):\n",
    "    s=0\n",
    "    for i in range(1,n+1):\n",
    "        if n%i==0:\n",
    "            s=s+1\n",
    "    if s==2:\n",
    "        print('prime')\n",
    "    else:\n",
    "        print('notPrime')\n",
    "is_prime(6)\n",
    "        "
   ]
  },
  {
   "cell_type": "code",
   "execution_count": 80,
   "id": "previous-desperate",
   "metadata": {},
   "outputs": [
    {
     "ename": "SyntaxError",
     "evalue": "EOL while scanning string literal (<ipython-input-80-e3d760da20e1>, line 4)",
     "output_type": "error",
     "traceback": [
      "\u001b[1;36m  File \u001b[1;32m\"<ipython-input-80-e3d760da20e1>\"\u001b[1;36m, line \u001b[1;32m4\u001b[0m\n\u001b[1;33m    print('',i,'end =\" \" )\u001b[0m\n\u001b[1;37m                          ^\u001b[0m\n\u001b[1;31mSyntaxError\u001b[0m\u001b[1;31m:\u001b[0m EOL while scanning string literal\n"
     ]
    }
   ],
   "source": [
    "def prime_gen(start,end):\n",
    "    for i in range(start,end+1):\n",
    "         if is_prime(i):\n",
    "            print('',i,end =\" \" )\n",
    "prime_gen(start=1,end=1000)\n",
    "    "
   ]
  },
  {
   "cell_type": "markdown",
   "id": "united-adaptation",
   "metadata": {},
   "source": [
    "### Strings\n",
    "- what is string?\n",
    "  - collection of characters\n",
    "  - "
   ]
  },
  {
   "cell_type": "code",
   "execution_count": 81,
   "id": "proved-click",
   "metadata": {},
   "outputs": [
    {
     "name": "stdout",
     "output_type": "stream",
     "text": [
      "<class 'str'>\n"
     ]
    }
   ],
   "source": [
    "s=' '\n",
    "print(type(s))"
   ]
  },
  {
   "cell_type": "code",
   "execution_count": 90,
   "id": "fluid-terrace",
   "metadata": {},
   "outputs": [
    {
     "name": "stdout",
     "output_type": "stream",
     "text": [
      "APSSDC\n"
     ]
    },
    {
     "data": {
      "text/plain": [
       "'APSSDC'"
      ]
     },
     "execution_count": 90,
     "metadata": {},
     "output_type": "execute_result"
    }
   ],
   "source": [
    "g='APSSDC'\n",
    "print(g)\n",
    "g"
   ]
  },
  {
   "cell_type": "code",
   "execution_count": 87,
   "id": "declared-angel",
   "metadata": {},
   "outputs": [
    {
     "data": {
      "text/plain": [
       "'C'"
      ]
     },
     "execution_count": 87,
     "metadata": {},
     "output_type": "execute_result"
    }
   ],
   "source": [
    "# Accessing value\n",
    "# Forward accessing\n",
    "g[5]"
   ]
  },
  {
   "cell_type": "code",
   "execution_count": 88,
   "id": "outdoor-collector",
   "metadata": {},
   "outputs": [
    {
     "data": {
      "text/plain": [
       "'S'"
      ]
     },
     "execution_count": 88,
     "metadata": {},
     "output_type": "execute_result"
    }
   ],
   "source": [
    "g[3]"
   ]
  },
  {
   "cell_type": "code",
   "execution_count": 91,
   "id": "hollow-spiritual",
   "metadata": {},
   "outputs": [
    {
     "data": {
      "text/plain": [
       "'C'"
      ]
     },
     "execution_count": 91,
     "metadata": {},
     "output_type": "execute_result"
    }
   ],
   "source": [
    "# Backward indexing\n",
    "g[-1] "
   ]
  },
  {
   "cell_type": "code",
   "execution_count": 93,
   "id": "intended-vessel",
   "metadata": {},
   "outputs": [
    {
     "name": "stdout",
     "output_type": "stream",
     "text": [
      "APSSDC\n"
     ]
    },
    {
     "data": {
      "text/plain": [
       "'SDC'"
      ]
     },
     "execution_count": 93,
     "metadata": {},
     "output_type": "execute_result"
    }
   ],
   "source": [
    "# Slicing\n",
    "print(g)\n",
    "g[3:]"
   ]
  },
  {
   "cell_type": "code",
   "execution_count": 96,
   "id": "classical-insurance",
   "metadata": {},
   "outputs": [
    {
     "name": "stdout",
     "output_type": "stream",
     "text": [
      "APSSDC\n"
     ]
    },
    {
     "data": {
      "text/plain": [
       "'SDC'"
      ]
     },
     "execution_count": 96,
     "metadata": {},
     "output_type": "execute_result"
    }
   ],
   "source": [
    "# Slicing\n",
    "print(g)\n",
    "g[3:6]"
   ]
  },
  {
   "cell_type": "code",
   "execution_count": 97,
   "id": "global-andrews",
   "metadata": {},
   "outputs": [
    {
     "data": {
      "text/plain": [
       "'APSSDC'"
      ]
     },
     "execution_count": 97,
     "metadata": {},
     "output_type": "execute_result"
    }
   ],
   "source": [
    "g[0:6]"
   ]
  },
  {
   "cell_type": "code",
   "execution_count": 98,
   "id": "sealed-familiar",
   "metadata": {},
   "outputs": [
    {
     "data": {
      "text/plain": [
       "'APSSD'"
      ]
     },
     "execution_count": 98,
     "metadata": {},
     "output_type": "execute_result"
    }
   ],
   "source": [
    "g[0:-1]"
   ]
  },
  {
   "cell_type": "code",
   "execution_count": 101,
   "id": "located-strike",
   "metadata": {},
   "outputs": [
    {
     "data": {
      "text/plain": [
       "'SD'"
      ]
     },
     "execution_count": 101,
     "metadata": {},
     "output_type": "execute_result"
    }
   ],
   "source": [
    "g[-3:-1]"
   ]
  },
  {
   "cell_type": "code",
   "execution_count": 103,
   "id": "relevant-marker",
   "metadata": {},
   "outputs": [
    {
     "data": {
      "text/plain": [
       "'CDSSPA'"
      ]
     },
     "execution_count": 103,
     "metadata": {},
     "output_type": "execute_result"
    }
   ],
   "source": [
    "# For reversing string\n",
    "g[::-1]"
   ]
  },
  {
   "cell_type": "code",
   "execution_count": 104,
   "id": "asian-bridge",
   "metadata": {},
   "outputs": [
    {
     "data": {
      "text/plain": [
       "'CSP'"
      ]
     },
     "execution_count": 104,
     "metadata": {},
     "output_type": "execute_result"
    }
   ],
   "source": [
    "g[::-2]"
   ]
  },
  {
   "cell_type": "code",
   "execution_count": 105,
   "id": "digital-recycling",
   "metadata": {},
   "outputs": [
    {
     "data": {
      "text/plain": [
       "'CA'"
      ]
     },
     "execution_count": 105,
     "metadata": {},
     "output_type": "execute_result"
    }
   ],
   "source": [
    "g[::-5]"
   ]
  },
  {
   "cell_type": "code",
   "execution_count": 107,
   "id": "systematic-perspective",
   "metadata": {},
   "outputs": [
    {
     "data": {
      "text/plain": [
       "'hello'"
      ]
     },
     "execution_count": 107,
     "metadata": {},
     "output_type": "execute_result"
    }
   ],
   "source": [
    "s1='hello'\n",
    "s1"
   ]
  },
  {
   "cell_type": "code",
   "execution_count": 111,
   "id": "furnished-message",
   "metadata": {},
   "outputs": [
    {
     "data": {
      "text/plain": [
       "'hello \\nkejjg\\nfkjh'"
      ]
     },
     "execution_count": 111,
     "metadata": {},
     "output_type": "execute_result"
    }
   ],
   "source": [
    "s2=\"\"\"hello \n",
    "kejjg\n",
    "fkjh\"\"\"\n",
    "s2"
   ]
  },
  {
   "cell_type": "code",
   "execution_count": 112,
   "id": "forward-while",
   "metadata": {},
   "outputs": [
    {
     "name": "stdout",
     "output_type": "stream",
     "text": [
      "hello\n"
     ]
    },
    {
     "data": {
      "text/plain": [
       "'print(\"good\")\\nprint(\"bad\")'"
      ]
     },
     "execution_count": 112,
     "metadata": {},
     "output_type": "execute_result"
    }
   ],
   "source": [
    "print(\"hello\")\n",
    "'''print(\"good\")\n",
    "print(\"bad\")''' # multiline comment "
   ]
  },
  {
   "cell_type": "code",
   "execution_count": 113,
   "id": "specific-photograph",
   "metadata": {},
   "outputs": [
    {
     "name": "stdout",
     "output_type": "stream",
     "text": [
      "APSSDC\n"
     ]
    }
   ],
   "source": [
    "print(g)"
   ]
  },
  {
   "cell_type": "code",
   "execution_count": 114,
   "id": "banner-cemetery",
   "metadata": {
    "scrolled": true
   },
   "outputs": [
    {
     "data": {
      "text/plain": [
       "['__add__',\n",
       " '__class__',\n",
       " '__contains__',\n",
       " '__delattr__',\n",
       " '__dir__',\n",
       " '__doc__',\n",
       " '__eq__',\n",
       " '__format__',\n",
       " '__ge__',\n",
       " '__getattribute__',\n",
       " '__getitem__',\n",
       " '__getnewargs__',\n",
       " '__gt__',\n",
       " '__hash__',\n",
       " '__init__',\n",
       " '__init_subclass__',\n",
       " '__iter__',\n",
       " '__le__',\n",
       " '__len__',\n",
       " '__lt__',\n",
       " '__mod__',\n",
       " '__mul__',\n",
       " '__ne__',\n",
       " '__new__',\n",
       " '__reduce__',\n",
       " '__reduce_ex__',\n",
       " '__repr__',\n",
       " '__rmod__',\n",
       " '__rmul__',\n",
       " '__setattr__',\n",
       " '__sizeof__',\n",
       " '__str__',\n",
       " '__subclasshook__',\n",
       " 'capitalize',\n",
       " 'casefold',\n",
       " 'center',\n",
       " 'count',\n",
       " 'encode',\n",
       " 'endswith',\n",
       " 'expandtabs',\n",
       " 'find',\n",
       " 'format',\n",
       " 'format_map',\n",
       " 'index',\n",
       " 'isalnum',\n",
       " 'isalpha',\n",
       " 'isascii',\n",
       " 'isdecimal',\n",
       " 'isdigit',\n",
       " 'isidentifier',\n",
       " 'islower',\n",
       " 'isnumeric',\n",
       " 'isprintable',\n",
       " 'isspace',\n",
       " 'istitle',\n",
       " 'isupper',\n",
       " 'join',\n",
       " 'ljust',\n",
       " 'lower',\n",
       " 'lstrip',\n",
       " 'maketrans',\n",
       " 'partition',\n",
       " 'replace',\n",
       " 'rfind',\n",
       " 'rindex',\n",
       " 'rjust',\n",
       " 'rpartition',\n",
       " 'rsplit',\n",
       " 'rstrip',\n",
       " 'split',\n",
       " 'splitlines',\n",
       " 'startswith',\n",
       " 'strip',\n",
       " 'swapcase',\n",
       " 'title',\n",
       " 'translate',\n",
       " 'upper',\n",
       " 'zfill']"
      ]
     },
     "execution_count": 114,
     "metadata": {},
     "output_type": "execute_result"
    }
   ],
   "source": [
    "dir(g)"
   ]
  },
  {
   "cell_type": "code",
   "execution_count": 115,
   "id": "dental-geneva",
   "metadata": {},
   "outputs": [
    {
     "data": {
      "text/plain": [
       "'Apssdc'"
      ]
     },
     "execution_count": 115,
     "metadata": {},
     "output_type": "execute_result"
    }
   ],
   "source": [
    "g.capitalize() # starting letter only capital"
   ]
  },
  {
   "cell_type": "code",
   "execution_count": 116,
   "id": "trying-village",
   "metadata": {},
   "outputs": [
    {
     "name": "stdout",
     "output_type": "stream",
     "text": [
      "APSSDC\n"
     ]
    }
   ],
   "source": [
    "print(g)"
   ]
  },
  {
   "cell_type": "code",
   "execution_count": 118,
   "id": "wound-hello",
   "metadata": {},
   "outputs": [
    {
     "name": "stdout",
     "output_type": "stream",
     "text": [
      "APSSDC\n"
     ]
    },
    {
     "data": {
      "text/plain": [
       "'apssdc'"
      ]
     },
     "execution_count": 118,
     "metadata": {},
     "output_type": "execute_result"
    }
   ],
   "source": [
    "print(g)\n",
    "g.lower() # in this method converted into lower case letters"
   ]
  },
  {
   "cell_type": "code",
   "execution_count": 121,
   "id": "suburban-danish",
   "metadata": {},
   "outputs": [
    {
     "data": {
      "text/plain": [
       "'ABCABC'"
      ]
     },
     "execution_count": 121,
     "metadata": {},
     "output_type": "execute_result"
    }
   ],
   "source": [
    "g1=\"ABCabc\"\n",
    "g1.upper()\n"
   ]
  },
  {
   "cell_type": "code",
   "execution_count": 122,
   "id": "arbitrary-trigger",
   "metadata": {},
   "outputs": [
    {
     "data": {
      "text/plain": [
       "'abcabc'"
      ]
     },
     "execution_count": 122,
     "metadata": {},
     "output_type": "execute_result"
    }
   ],
   "source": [
    "g1.lower()"
   ]
  },
  {
   "cell_type": "code",
   "execution_count": 124,
   "id": "scheduled-actress",
   "metadata": {},
   "outputs": [
    {
     "data": {
      "text/plain": [
       "'Apssdc Python Workshop'"
      ]
     },
     "execution_count": 124,
     "metadata": {},
     "output_type": "execute_result"
    }
   ],
   "source": [
    "g3=\"apssdc python workshop\"\n",
    "g3.title()                  # all starting letters converts into capital letters"
   ]
  },
  {
   "cell_type": "code",
   "execution_count": 127,
   "id": "tracked-seating",
   "metadata": {},
   "outputs": [
    {
     "name": "stdout",
     "output_type": "stream",
     "text": [
      "RVRECE\n"
     ]
    }
   ],
   "source": [
    "a='RVR'\n",
    "b='ECE'\n",
    "c=a+b\n",
    "print(c)"
   ]
  },
  {
   "cell_type": "code",
   "execution_count": 128,
   "id": "altered-belfast",
   "metadata": {},
   "outputs": [
    {
     "name": "stdout",
     "output_type": "stream",
     "text": [
      "RVR ECE\n"
     ]
    }
   ],
   "source": [
    "a='RVR'\n",
    "b='ECE'\n",
    "c=a+' '+b\n",
    "print(c)"
   ]
  },
  {
   "cell_type": "code",
   "execution_count": 130,
   "id": "animated-defeat",
   "metadata": {},
   "outputs": [
    {
     "data": {
      "text/plain": [
       "['RVR', 'ECE']"
      ]
     },
     "execution_count": 130,
     "metadata": {},
     "output_type": "execute_result"
    }
   ],
   "source": [
    "c.split() # to separate strings at space"
   ]
  },
  {
   "cell_type": "code",
   "execution_count": 133,
   "id": "dental-cradle",
   "metadata": {},
   "outputs": [
    {
     "data": {
      "text/plain": [
       "['apssdc', 'python', 'workshop']"
      ]
     },
     "execution_count": 133,
     "metadata": {},
     "output_type": "execute_result"
    }
   ],
   "source": [
    "g3=\"apssdc$python$workshop\"\n",
    "g3.split('$')"
   ]
  },
  {
   "cell_type": "code",
   "execution_count": 134,
   "id": "ecological-michael",
   "metadata": {},
   "outputs": [
    {
     "data": {
      "text/plain": [
       "['ap', '', 'dc$python$work', 'hop']"
      ]
     },
     "execution_count": 134,
     "metadata": {},
     "output_type": "execute_result"
    }
   ],
   "source": [
    "g3.split('s')"
   ]
  },
  {
   "cell_type": "code",
   "execution_count": 135,
   "id": "corresponding-laugh",
   "metadata": {},
   "outputs": [
    {
     "data": {
      "text/plain": [
       "'apssdc$python$workshop'"
      ]
     },
     "execution_count": 135,
     "metadata": {},
     "output_type": "execute_result"
    }
   ],
   "source": [
    "g3.strip()"
   ]
  },
  {
   "cell_type": "code",
   "execution_count": 136,
   "id": "genetic-start",
   "metadata": {},
   "outputs": [
    {
     "data": {
      "text/plain": [
       "['apssdc$python$workshop']"
      ]
     },
     "execution_count": 136,
     "metadata": {},
     "output_type": "execute_result"
    }
   ],
   "source": [
    "g3.split()"
   ]
  },
  {
   "cell_type": "code",
   "execution_count": 140,
   "id": "herbal-glance",
   "metadata": {},
   "outputs": [
    {
     "name": "stdout",
     "output_type": "stream",
     "text": [
      " python workshop \n"
     ]
    }
   ],
   "source": [
    "z = \" python workshop \"\n",
    "len(z)\n",
    "print(z)"
   ]
  },
  {
   "cell_type": "code",
   "execution_count": 139,
   "id": "detected-denial",
   "metadata": {},
   "outputs": [
    {
     "data": {
      "text/plain": [
       "'python workshop'"
      ]
     },
     "execution_count": 139,
     "metadata": {},
     "output_type": "execute_result"
    }
   ],
   "source": [
    "z.strip() # to remove unwanted spaces"
   ]
  },
  {
   "cell_type": "code",
   "execution_count": 141,
   "id": "fifty-camping",
   "metadata": {},
   "outputs": [
    {
     "data": {
      "text/plain": [
       "' python workshop'"
      ]
     },
     "execution_count": 141,
     "metadata": {},
     "output_type": "execute_result"
    }
   ],
   "source": [
    "z.rstrip()"
   ]
  },
  {
   "cell_type": "code",
   "execution_count": 142,
   "id": "integrated-horse",
   "metadata": {},
   "outputs": [
    {
     "data": {
      "text/plain": [
       "'python workshop '"
      ]
     },
     "execution_count": 142,
     "metadata": {},
     "output_type": "execute_result"
    }
   ],
   "source": [
    "z.lstrip()"
   ]
  },
  {
   "cell_type": "code",
   "execution_count": 144,
   "id": "intimate-semiconductor",
   "metadata": {},
   "outputs": [
    {
     "data": {
      "text/plain": [
       "'helloworld'"
      ]
     },
     "execution_count": 144,
     "metadata": {},
     "output_type": "execute_result"
    }
   ],
   "source": [
    "# join \n",
    "a = ['hello','world']\n",
    "\"\".join(a)"
   ]
  },
  {
   "cell_type": "code",
   "execution_count": 145,
   "id": "ecological-phrase",
   "metadata": {},
   "outputs": [
    {
     "data": {
      "text/plain": [
       "'hello@world'"
      ]
     },
     "execution_count": 145,
     "metadata": {},
     "output_type": "execute_result"
    }
   ],
   "source": [
    "# join \n",
    "a = ['hello','world']\n",
    "\"@\".join(a)"
   ]
  },
  {
   "cell_type": "code",
   "execution_count": 146,
   "id": "decent-science",
   "metadata": {},
   "outputs": [
    {
     "data": {
      "text/plain": [
       "'hellorvrworld'"
      ]
     },
     "execution_count": 146,
     "metadata": {},
     "output_type": "execute_result"
    }
   ],
   "source": [
    "# join \n",
    "a = ['hello','rvr','world']\n",
    "\"\".join(a)"
   ]
  },
  {
   "cell_type": "code",
   "execution_count": 147,
   "id": "desperate-replication",
   "metadata": {},
   "outputs": [
    {
     "data": {
      "text/plain": [
       "'hello@rvr@world'"
      ]
     },
     "execution_count": 147,
     "metadata": {},
     "output_type": "execute_result"
    }
   ],
   "source": [
    "# join \n",
    "a = ['hello','rvr','world']\n",
    "\"@\".join(a)"
   ]
  },
  {
   "cell_type": "code",
   "execution_count": null,
   "id": "coral-genesis",
   "metadata": {},
   "outputs": [],
   "source": []
  }
 ],
 "metadata": {
  "kernelspec": {
   "display_name": "Python 3",
   "language": "python",
   "name": "python3"
  },
  "language_info": {
   "codemirror_mode": {
    "name": "ipython",
    "version": 3
   },
   "file_extension": ".py",
   "mimetype": "text/x-python",
   "name": "python",
   "nbconvert_exporter": "python",
   "pygments_lexer": "ipython3",
   "version": "3.8.0"
  }
 },
 "nbformat": 4,
 "nbformat_minor": 5
}
