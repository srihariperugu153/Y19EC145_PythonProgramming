{
 "cells": [
  {
   "cell_type": "markdown",
   "id": "sudden-subject",
   "metadata": {},
   "source": [
    "### File handling techniques using python\n",
    " - what is a file?\n",
    "   - collection of records\n",
    "   - store the data\n",
    "#### File operations\n",
    " - open a file\n",
    "   - open('filename','Mode')\n",
    " - Read()\n",
    " - write() - To write data into a file \n",
    " - Append() - to add the into a file\n",
    " - Close()  - close the file\n",
    " \n",
    " #### Modes:\n",
    "  - Read mode -r\n",
    "  - Write mode -w\n",
    "  - Append mode -a\n",
    " \n"
   ]
  },
  {
   "cell_type": "code",
   "execution_count": 2,
   "id": "sharp-pioneer",
   "metadata": {},
   "outputs": [
    {
     "name": "stdout",
     "output_type": "stream",
     "text": [
      "<_io.TextIOWrapper name='File.txt' mode='r' encoding='cp1252'>\n"
     ]
    }
   ],
   "source": [
    "# open a file\n",
    "f= open('File.txt','r')\n",
    "print(f)"
   ]
  },
  {
   "cell_type": "code",
   "execution_count": 5,
   "id": "gross-laser",
   "metadata": {},
   "outputs": [
    {
     "data": {
      "text/plain": [
       "<_io.TextIOWrapper name='C:\\\\Users\\\\APSSDC-RVRJC\\\\Desktop\\\\PYTHON_PROGRAMMING\\\\File.txt' mode='r' encoding='cp1252'>"
      ]
     },
     "execution_count": 5,
     "metadata": {},
     "output_type": "execute_result"
    }
   ],
   "source": [
    "f=open('C:\\\\Users\\\\APSSDC-RVRJC\\\\Desktop\\\\PYTHON_PROGRAMMING\\\\File.txt','r')\n",
    "f"
   ]
  },
  {
   "cell_type": "code",
   "execution_count": 7,
   "id": "sapphire-panic",
   "metadata": {},
   "outputs": [
    {
     "name": "stdout",
     "output_type": "stream",
     "text": [
      "a=10\n",
      "b=12\n",
      "c=a+b\n",
      "print(c)\n"
     ]
    }
   ],
   "source": [
    "f=open('C:\\\\Users\\\\APSSDC-RVRJC\\\\Desktop\\\\PYTHON_PROGRAMMING\\\\File.txt','r')\n",
    "f1=f.read()\n",
    "print(f1)"
   ]
  },
  {
   "cell_type": "code",
   "execution_count": 44,
   "id": "passing-baking",
   "metadata": {},
   "outputs": [
    {
     "name": "stdout",
     "output_type": "stream",
     "text": [
      "13\n"
     ]
    }
   ],
   "source": [
    "# write\n",
    "f=open('C:\\\\Users\\\\APSSDC-RVRJC\\\\Desktop\\\\PYTHON_PROGRAMMING\\\\File.txt','w')\n",
    "data='srihari hello'\n",
    "f1=f.write(data)\n",
    "print(f1)\n",
    "f.close()"
   ]
  },
  {
   "cell_type": "code",
   "execution_count": 31,
   "id": "subject-teens",
   "metadata": {},
   "outputs": [
    {
     "data": {
      "text/plain": [
       "'srihari hello  hello world'"
      ]
     },
     "execution_count": 31,
     "metadata": {},
     "output_type": "execute_result"
    }
   ],
   "source": [
    "f=open('C:\\\\Users\\\\APSSDC-RVRJC\\\\Desktop\\\\PYTHON_PROGRAMMING\\\\File.txt','r')\n",
    "f1=f.read()\n",
    "f1"
   ]
  },
  {
   "cell_type": "code",
   "execution_count": 30,
   "id": "promotional-cameroon",
   "metadata": {},
   "outputs": [
    {
     "name": "stdout",
     "output_type": "stream",
     "text": [
      "13\n"
     ]
    }
   ],
   "source": [
    "# append\n",
    "f=open('C:\\\\Users\\\\APSSDC-RVRJC\\\\Desktop\\\\PYTHON_PROGRAMMING\\\\File.txt','a')\n",
    "data='  hello world'\n",
    "f1=f.write(data)\n",
    "f.close()\n",
    "print(f1)"
   ]
  },
  {
   "cell_type": "code",
   "execution_count": 39,
   "id": "super-shaft",
   "metadata": {},
   "outputs": [
    {
     "data": {
      "text/plain": [
       "<_io.TextIOWrapper name='file.java' mode='r' encoding='cp1252'>"
      ]
     },
     "execution_count": 39,
     "metadata": {},
     "output_type": "execute_result"
    }
   ],
   "source": [
    "f=open('file.java','r')\n",
    "f"
   ]
  },
  {
   "cell_type": "code",
   "execution_count": 41,
   "id": "changed-switzerland",
   "metadata": {},
   "outputs": [
    {
     "name": "stdout",
     "output_type": "stream",
     "text": [
      "PERUGU SRIHARI\n",
      "Y19EC145\n",
      "8688521016\n",
      "ECE\n",
      "srihariperugu153@gmail.com\n"
     ]
    }
   ],
   "source": [
    "f=open('C:\\\\Users\\APSSDC-RVRJC\\\\Desktop\\\\PYTHON_PROGRAMMING\\\\file.java','r')\n",
    "f2=f.read()\n",
    "print(f2)"
   ]
  },
  {
   "cell_type": "code",
   "execution_count": 51,
   "id": "sophisticated-spyware",
   "metadata": {},
   "outputs": [
    {
     "name": "stdout",
     "output_type": "stream",
     "text": [
      "PERUGU SRIHARI\n",
      "Y19EC145\n",
      "8688521016\n",
      "ECE\n",
      "srihariperugu153@gmail.comRVRJC  RVRJC  RVRJC\n"
     ]
    }
   ],
   "source": [
    "f=open('C:\\\\Users\\APSSDC-RVRJC\\\\Desktop\\\\PYTHON_PROGRAMMING\\\\file.java','r')\n",
    "f2=f.read()\n",
    "print(f2)"
   ]
  },
  {
   "cell_type": "code",
   "execution_count": 52,
   "id": "precious-fleece",
   "metadata": {},
   "outputs": [
    {
     "name": "stdout",
     "output_type": "stream",
     "text": [
      "7\n"
     ]
    }
   ],
   "source": [
    "f=open('C:\\\\Users\\APSSDC-RVRJC\\\\Desktop\\\\PYTHON_PROGRAMMING\\\\file.java','a')\n",
    "data='  RVRJC'\n",
    "f1=f.write(data)\n",
    "print(f1)"
   ]
  },
  {
   "cell_type": "code",
   "execution_count": 56,
   "id": "dominant-salmon",
   "metadata": {},
   "outputs": [
    {
     "name": "stdout",
     "output_type": "stream",
     "text": [
      "Append data is succes\n"
     ]
    }
   ],
   "source": [
    "# with out close a file\n",
    "with open('file.java','a') as aliasName:\n",
    "    data = '   APSSDC '\n",
    "    aliasName.write(data)\n",
    "    print('Append data is succes')\n",
    "    "
   ]
  },
  {
   "cell_type": "code",
   "execution_count": 60,
   "id": "reduced-iceland",
   "metadata": {},
   "outputs": [
    {
     "data": {
      "text/plain": [
       "<_io.TextIOWrapper name='C:/Users/APSSDC-RVRJC/Downloads/RVR_3.pdf' mode='r' encoding='cp1252'>"
      ]
     },
     "execution_count": 60,
     "metadata": {},
     "output_type": "execute_result"
    }
   ],
   "source": [
    "f=open('C:/Users/APSSDC-RVRJC/Downloads/RVR_3.pdf','r')\n",
    "f"
   ]
  },
  {
   "cell_type": "code",
   "execution_count": 62,
   "id": "instructional-nebraska",
   "metadata": {},
   "outputs": [
    {
     "ename": "UnicodeDecodeError",
     "evalue": "'charmap' codec can't decode byte 0x8f in position 745: character maps to <undefined>",
     "output_type": "error",
     "traceback": [
      "\u001b[1;31m---------------------------------------------------------------------------\u001b[0m",
      "\u001b[1;31mUnicodeDecodeError\u001b[0m                        Traceback (most recent call last)",
      "\u001b[1;32m<ipython-input-62-ef2c96128ee3>\u001b[0m in \u001b[0;36m<module>\u001b[1;34m\u001b[0m\n\u001b[0;32m      1\u001b[0m \u001b[0mf\u001b[0m\u001b[1;33m=\u001b[0m\u001b[0mopen\u001b[0m\u001b[1;33m(\u001b[0m\u001b[1;34m'C:/Users/APSSDC-RVRJC/Downloads/RVR_3.pdf'\u001b[0m\u001b[1;33m,\u001b[0m\u001b[1;34m'r'\u001b[0m\u001b[1;33m)\u001b[0m\u001b[1;33m\u001b[0m\u001b[1;33m\u001b[0m\u001b[0m\n\u001b[1;32m----> 2\u001b[1;33m \u001b[0mf3\u001b[0m\u001b[1;33m=\u001b[0m\u001b[0mf\u001b[0m\u001b[1;33m.\u001b[0m\u001b[0mread\u001b[0m\u001b[1;33m(\u001b[0m\u001b[1;33m)\u001b[0m\u001b[1;33m\u001b[0m\u001b[1;33m\u001b[0m\u001b[0m\n\u001b[0m\u001b[0;32m      3\u001b[0m \u001b[0mprint\u001b[0m\u001b[1;33m(\u001b[0m\u001b[0mf3\u001b[0m\u001b[1;33m)\u001b[0m\u001b[1;33m\u001b[0m\u001b[1;33m\u001b[0m\u001b[0m\n",
      "\u001b[1;32mc:\\users\\apssdc-rvrjc\\appdata\\local\\programs\\python\\python38\\lib\\encodings\\cp1252.py\u001b[0m in \u001b[0;36mdecode\u001b[1;34m(self, input, final)\u001b[0m\n\u001b[0;32m     21\u001b[0m \u001b[1;32mclass\u001b[0m \u001b[0mIncrementalDecoder\u001b[0m\u001b[1;33m(\u001b[0m\u001b[0mcodecs\u001b[0m\u001b[1;33m.\u001b[0m\u001b[0mIncrementalDecoder\u001b[0m\u001b[1;33m)\u001b[0m\u001b[1;33m:\u001b[0m\u001b[1;33m\u001b[0m\u001b[1;33m\u001b[0m\u001b[0m\n\u001b[0;32m     22\u001b[0m     \u001b[1;32mdef\u001b[0m \u001b[0mdecode\u001b[0m\u001b[1;33m(\u001b[0m\u001b[0mself\u001b[0m\u001b[1;33m,\u001b[0m \u001b[0minput\u001b[0m\u001b[1;33m,\u001b[0m \u001b[0mfinal\u001b[0m\u001b[1;33m=\u001b[0m\u001b[1;32mFalse\u001b[0m\u001b[1;33m)\u001b[0m\u001b[1;33m:\u001b[0m\u001b[1;33m\u001b[0m\u001b[1;33m\u001b[0m\u001b[0m\n\u001b[1;32m---> 23\u001b[1;33m         \u001b[1;32mreturn\u001b[0m \u001b[0mcodecs\u001b[0m\u001b[1;33m.\u001b[0m\u001b[0mcharmap_decode\u001b[0m\u001b[1;33m(\u001b[0m\u001b[0minput\u001b[0m\u001b[1;33m,\u001b[0m\u001b[0mself\u001b[0m\u001b[1;33m.\u001b[0m\u001b[0merrors\u001b[0m\u001b[1;33m,\u001b[0m\u001b[0mdecoding_table\u001b[0m\u001b[1;33m)\u001b[0m\u001b[1;33m[\u001b[0m\u001b[1;36m0\u001b[0m\u001b[1;33m]\u001b[0m\u001b[1;33m\u001b[0m\u001b[1;33m\u001b[0m\u001b[0m\n\u001b[0m\u001b[0;32m     24\u001b[0m \u001b[1;33m\u001b[0m\u001b[0m\n\u001b[0;32m     25\u001b[0m \u001b[1;32mclass\u001b[0m \u001b[0mStreamWriter\u001b[0m\u001b[1;33m(\u001b[0m\u001b[0mCodec\u001b[0m\u001b[1;33m,\u001b[0m\u001b[0mcodecs\u001b[0m\u001b[1;33m.\u001b[0m\u001b[0mStreamWriter\u001b[0m\u001b[1;33m)\u001b[0m\u001b[1;33m:\u001b[0m\u001b[1;33m\u001b[0m\u001b[1;33m\u001b[0m\u001b[0m\n",
      "\u001b[1;31mUnicodeDecodeError\u001b[0m: 'charmap' codec can't decode byte 0x8f in position 745: character maps to <undefined>"
     ]
    }
   ],
   "source": [
    "f=open('C:/Users/APSSDC-RVRJC/Downloads/RVR_3.pdf','r')\n",
    "f3=f.read()\n",
    "print(f3)"
   ]
  },
  {
   "cell_type": "code",
   "execution_count": 63,
   "id": "spatial-suggestion",
   "metadata": {},
   "outputs": [
    {
     "name": "stdout",
     "output_type": "stream",
     "text": [
      "Collecting pyPDF2\n",
      "  Downloading https://files.pythonhosted.org/packages/b4/01/68fcc0d43daf4c6bdbc6b33cc3f77bda531c86b174cac56ef0ffdb96faab/PyPDF2-1.26.0.tar.gz (77kB)\n",
      "Installing collected packages: pyPDF2\n",
      "  Running setup.py install for pyPDF2: started\n",
      "    Running setup.py install for pyPDF2: finished with status 'done'\n",
      "Successfully installed pyPDF2-1.26.0\n",
      "Note: you may need to restart the kernel to use updated packages.\n"
     ]
    },
    {
     "name": "stderr",
     "output_type": "stream",
     "text": [
      "WARNING: You are using pip version 19.2.3, however version 21.0.1 is available.\n",
      "You should consider upgrading via the 'python -m pip install --upgrade pip' command.\n"
     ]
    }
   ],
   "source": [
    "pip install pyPDF2"
   ]
  },
  {
   "cell_type": "code",
   "execution_count": null,
   "id": "intelligent-monroe",
   "metadata": {},
   "outputs": [],
   "source": []
  }
 ],
 "metadata": {
  "kernelspec": {
   "display_name": "Python 3",
   "language": "python",
   "name": "python3"
  },
  "language_info": {
   "codemirror_mode": {
    "name": "ipython",
    "version": 3
   },
   "file_extension": ".py",
   "mimetype": "text/x-python",
   "name": "python",
   "nbconvert_exporter": "python",
   "pygments_lexer": "ipython3",
   "version": "3.8.0"
  }
 },
 "nbformat": 4,
 "nbformat_minor": 5
}
