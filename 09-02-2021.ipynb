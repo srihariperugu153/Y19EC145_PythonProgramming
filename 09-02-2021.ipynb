{
 "cells": [
  {
   "cell_type": "markdown",
   "id": "narrative-complement",
   "metadata": {},
   "source": [
    "### Regular expression\n",
    " - It is a sequence of characters that forms a pattren(Search pattren)\n",
    " - Validation of data\n",
    " - import re\n",
    " "
   ]
  },
  {
   "cell_type": "code",
   "execution_count": 1,
   "id": "ranking-cornwall",
   "metadata": {},
   "outputs": [],
   "source": [
    "import re"
   ]
  },
  {
   "cell_type": "code",
   "execution_count": 2,
   "id": "federal-recovery",
   "metadata": {},
   "outputs": [
    {
     "data": {
      "text/plain": [
       "['A',\n",
       " 'ASCII',\n",
       " 'DEBUG',\n",
       " 'DOTALL',\n",
       " 'I',\n",
       " 'IGNORECASE',\n",
       " 'L',\n",
       " 'LOCALE',\n",
       " 'M',\n",
       " 'MULTILINE',\n",
       " 'Match',\n",
       " 'Pattern',\n",
       " 'RegexFlag',\n",
       " 'S',\n",
       " 'Scanner',\n",
       " 'T',\n",
       " 'TEMPLATE',\n",
       " 'U',\n",
       " 'UNICODE',\n",
       " 'VERBOSE',\n",
       " 'X',\n",
       " '_MAXCACHE',\n",
       " '__all__',\n",
       " '__builtins__',\n",
       " '__cached__',\n",
       " '__doc__',\n",
       " '__file__',\n",
       " '__loader__',\n",
       " '__name__',\n",
       " '__package__',\n",
       " '__spec__',\n",
       " '__version__',\n",
       " '_cache',\n",
       " '_compile',\n",
       " '_compile_repl',\n",
       " '_expand',\n",
       " '_locale',\n",
       " '_pickle',\n",
       " '_special_chars_map',\n",
       " '_subx',\n",
       " 'compile',\n",
       " 'copyreg',\n",
       " 'enum',\n",
       " 'error',\n",
       " 'escape',\n",
       " 'findall',\n",
       " 'finditer',\n",
       " 'fullmatch',\n",
       " 'functools',\n",
       " 'match',\n",
       " 'purge',\n",
       " 'search',\n",
       " 'split',\n",
       " 'sre_compile',\n",
       " 'sre_parse',\n",
       " 'sub',\n",
       " 'subn',\n",
       " 'template']"
      ]
     },
     "execution_count": 2,
     "metadata": {},
     "output_type": "execute_result"
    }
   ],
   "source": [
    "dir(re)"
   ]
  },
  {
   "cell_type": "code",
   "execution_count": 13,
   "id": "statistical-gibson",
   "metadata": {},
   "outputs": [
    {
     "name": "stdout",
     "output_type": "stream",
     "text": [
      "<re.Match object; span=(0, 1), match='A'>\n"
     ]
    }
   ],
   "source": [
    "# match : syntax: re.match(pattren,string)\n",
    "\n",
    "import re\n",
    "a=re.match('A','APSSDC') # ONLY for starting character\n",
    "print(a)"
   ]
  },
  {
   "cell_type": "code",
   "execution_count": 14,
   "id": "textile-whole",
   "metadata": {},
   "outputs": [
    {
     "data": {
      "text/plain": [
       "<re.Match object; span=(4, 5), match='D'>"
      ]
     },
     "execution_count": 14,
     "metadata": {},
     "output_type": "execute_result"
    }
   ],
   "source": [
    "b= re.search('D','APSSDC') # searching for any character\n",
    "b"
   ]
  },
  {
   "cell_type": "code",
   "execution_count": 11,
   "id": "flying-corps",
   "metadata": {},
   "outputs": [
    {
     "data": {
      "text/plain": [
       "<re.Match object; span=(0, 3), match='RVR'>"
      ]
     },
     "execution_count": 11,
     "metadata": {},
     "output_type": "execute_result"
    }
   ],
   "source": [
    "c= re.match('RVR','RVRJC')\n",
    "c"
   ]
  },
  {
   "cell_type": "code",
   "execution_count": 17,
   "id": "right-extraction",
   "metadata": {},
   "outputs": [
    {
     "data": {
      "text/plain": [
       "NoneType"
      ]
     },
     "execution_count": 17,
     "metadata": {},
     "output_type": "execute_result"
    }
   ],
   "source": [
    "c= re.search('RR','RVRJC')\n",
    "type(c)"
   ]
  },
  {
   "cell_type": "code",
   "execution_count": 19,
   "id": "under-houston",
   "metadata": {},
   "outputs": [
    {
     "data": {
      "text/plain": [
       "['R', 'R']"
      ]
     },
     "execution_count": 19,
     "metadata": {},
     "output_type": "execute_result"
    }
   ],
   "source": [
    "a = re.findall('R','RVRJC')\n",
    "a"
   ]
  },
  {
   "cell_type": "markdown",
   "id": "interpreted-deputy",
   "metadata": {},
   "source": [
    "### Regular expression quick guide\n",
    " - ^         ------ Matches a beginning of a line\n",
    " - $         ------  Matches a end of a line\n",
    " - .         ------   Matches any character\n",
    " - \\s        ------   Matches whitespace\n",
    " -\\S         ------    Matches non- whitespace character\n",
    " -*         ------    Repeates a character zero or more times\n",
    " -*?        ------    Repeates a character zero or more times(non - greedy)\n",
    " -+          ------  Repeates a character one or more times\n",
    " -+?         ------ Repeates a character one or more times(non-greedy)\n",
    " -[aeiou]    ------  Matches a single character in the listed set\n",
    " -[^xyz]      ------  Matches a single character not  in the listed set\n",
    " -[a-z0-9]   ------   The set of characters can include a range\n",
    " -(          ------  Indicates where string extraction is to start\n",
    " -)         ------    Indicates where string extraction is to end            "
   ]
  },
  {
   "cell_type": "code",
   "execution_count": 20,
   "id": "loaded-kingdom",
   "metadata": {},
   "outputs": [
    {
     "data": {
      "text/plain": [
       "<re.Match object; span=(0, 13), match='RVR JC Guntur'>"
      ]
     },
     "execution_count": 20,
     "metadata": {},
     "output_type": "execute_result"
    }
   ],
   "source": [
    "a= 'RVR JC Guntur'\n",
    "res= re.search('^R.*r$',a)\n",
    "res"
   ]
  },
  {
   "cell_type": "code",
   "execution_count": 21,
   "id": "center-botswana",
   "metadata": {},
   "outputs": [
    {
     "data": {
      "text/plain": [
       "<re.Match object; span=(0, 13), match='RVR JC Guntur'>"
      ]
     },
     "execution_count": 21,
     "metadata": {},
     "output_type": "execute_result"
    }
   ],
   "source": [
    "a= 'RVR JC Guntur'\n",
    "res= re.search('^R.+r$',a)\n",
    "res"
   ]
  },
  {
   "cell_type": "code",
   "execution_count": 22,
   "id": "foreign-trademark",
   "metadata": {},
   "outputs": [
    {
     "data": {
      "text/plain": [
       "<re.Match object; span=(0, 13), match='RVR JC Guntur'>"
      ]
     },
     "execution_count": 22,
     "metadata": {},
     "output_type": "execute_result"
    }
   ],
   "source": [
    "a= 'RVR JC Guntur'\n",
    "res= re.search('R.*r$',a)\n",
    "res"
   ]
  },
  {
   "cell_type": "code",
   "execution_count": 24,
   "id": "violent-respondent",
   "metadata": {},
   "outputs": [
    {
     "data": {
      "text/plain": [
       "<re.Match object; span=(0, 8), match='RVR JC G'>"
      ]
     },
     "execution_count": 24,
     "metadata": {},
     "output_type": "execute_result"
    }
   ],
   "source": [
    "a= 'RVR JC Guntur'\n",
    "res= re.search('^R.*G',a)\n",
    "res"
   ]
  },
  {
   "cell_type": "code",
   "execution_count": 27,
   "id": "postal-hygiene",
   "metadata": {},
   "outputs": [
    {
     "data": {
      "text/plain": [
       "['python', 'python']"
      ]
     },
     "execution_count": 27,
     "metadata": {},
     "output_type": "execute_result"
    }
   ],
   "source": [
    "# findall(pattren,string)\n",
    "a='python Workshop python Language RVRJC Workshop'\n",
    "res=re.findall('python',a)\n",
    "res"
   ]
  },
  {
   "cell_type": "code",
   "execution_count": 31,
   "id": "headed-moisture",
   "metadata": {},
   "outputs": [
    {
     "data": {
      "text/plain": [
       "<re.Match object; span=(0, 6), match='python'>"
      ]
     },
     "execution_count": 31,
     "metadata": {},
     "output_type": "execute_result"
    }
   ],
   "source": [
    "a='python Workshop python Language RVRJC Workshop'\n",
    "pattren='p....n'\n",
    "res=re.search(pattren,a)\n",
    "res"
   ]
  },
  {
   "cell_type": "code",
   "execution_count": 33,
   "id": "developmental-cheat",
   "metadata": {},
   "outputs": [
    {
     "data": {
      "text/plain": [
       "<re.Match object; span=(3, 4), match='J'>"
      ]
     },
     "execution_count": 33,
     "metadata": {},
     "output_type": "execute_result"
    }
   ],
   "source": [
    "a='RVRJC'\n",
    "res=re.search('J',a)\n",
    "res"
   ]
  },
  {
   "cell_type": "code",
   "execution_count": 36,
   "id": "amazing-constitutional",
   "metadata": {},
   "outputs": [
    {
     "data": {
      "text/plain": [
       "<re.Match object; span=(7, 8), match='E'>"
      ]
     },
     "execution_count": 36,
     "metadata": {},
     "output_type": "execute_result"
    }
   ],
   "source": [
    "a='RVRJCECE'\n",
    "res=re.search('E$',a)\n",
    "res"
   ]
  },
  {
   "cell_type": "code",
   "execution_count": 40,
   "id": "cardiac-semiconductor",
   "metadata": {},
   "outputs": [
    {
     "name": "stdout",
     "output_type": "stream",
     "text": [
      "[' ', ' ', ' ', ' ', ' ']\n"
     ]
    }
   ],
   "source": [
    "# \\s - white spaces\n",
    "a=\"RVR JC ECE PYTHON WORKSHOP \"\n",
    "res=re.findall('\\s',a)\n",
    "print(res)"
   ]
  },
  {
   "cell_type": "code",
   "execution_count": 41,
   "id": "native-rider",
   "metadata": {},
   "outputs": [
    {
     "name": "stdout",
     "output_type": "stream",
     "text": [
      "['R', 'V', 'R', 'J', 'C', 'E', 'C', 'E', 'P', 'Y', 'T', 'H', 'O', 'N', 'W', 'O', 'R', 'K', 'S', 'H', 'O', 'P']\n"
     ]
    }
   ],
   "source": [
    "a=\"RVR JC ECE PYTHON WORKSHOP \"\n",
    "res=re.findall('\\S',a)\n",
    "print(res)"
   ]
  },
  {
   "cell_type": "code",
   "execution_count": 44,
   "id": "contained-hygiene",
   "metadata": {},
   "outputs": [
    {
     "data": {
      "text/plain": [
       "<re.Match object; span=(0, 7), match='9999999'>"
      ]
     },
     "execution_count": 44,
     "metadata": {},
     "output_type": "execute_result"
    }
   ],
   "source": [
    "# * - repeat a character zero or more times\n",
    "a='99999994646465994654564'\n",
    "re.search('9*',a)"
   ]
  },
  {
   "cell_type": "code",
   "execution_count": 51,
   "id": "unknown-conditioning",
   "metadata": {},
   "outputs": [
    {
     "name": "stdout",
     "output_type": "stream",
     "text": [
      "venkatesh\n"
     ]
    }
   ],
   "source": [
    "li=['Ramu','Raj','Avinash','venkatesh','Gopi','Srinivas']\n",
    "pattren='^v.*h$'\n",
    "for i in li:\n",
    "    if re.search(pattren,i):\n",
    "        print(i)\n",
    "    "
   ]
  },
  {
   "cell_type": "code",
   "execution_count": 58,
   "id": "ultimate-edinburgh",
   "metadata": {},
   "outputs": [
    {
     "name": "stdout",
     "output_type": "stream",
     "text": [
      "9948599394\n",
      "8725438451\n",
      "7554546544\n",
      "6544254545\n"
     ]
    }
   ],
   "source": [
    "#\\d ---> digit\n",
    "# mobile number pattren\n",
    "li=['9948599394','8725438451','7554546544','6544254545','21231231212151']\n",
    "for i in li:\n",
    "    if re.findall('^[6,7,8,9]\\d{9}$',i):\n",
    "        print(i)"
   ]
  },
  {
   "cell_type": "code",
   "execution_count": null,
   "id": "cognitive-association",
   "metadata": {},
   "outputs": [],
   "source": [
    "# Email pattren(valid gmail ids)\n",
    "li=['apssdc.123@gmail.com','apssdcrvr@apssdc.in','rvrjc123.123@gmail.com','raj#$%%^^@gmail.com','PRASANNA123.@gmail.co.in']"
   ]
  }
 ],
 "metadata": {
  "kernelspec": {
   "display_name": "Python 3",
   "language": "python",
   "name": "python3"
  },
  "language_info": {
   "codemirror_mode": {
    "name": "ipython",
    "version": 3
   },
   "file_extension": ".py",
   "mimetype": "text/x-python",
   "name": "python",
   "nbconvert_exporter": "python",
   "pygments_lexer": "ipython3",
   "version": "3.8.0"
  }
 },
 "nbformat": 4,
 "nbformat_minor": 5
}
