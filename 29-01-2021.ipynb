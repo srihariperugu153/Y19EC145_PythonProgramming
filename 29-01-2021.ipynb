{
 "cells": [
  {
   "cell_type": "code",
   "execution_count": 1,
   "id": "lesbian-money",
   "metadata": {},
   "outputs": [
    {
     "data": {
      "text/plain": [
       "'ABCEFG123@$%ABCABC'"
      ]
     },
     "execution_count": 1,
     "metadata": {},
     "output_type": "execute_result"
    }
   ],
   "source": [
    "g='ABCefg123@$%ABCabc'\n",
    "g.upper()"
   ]
  },
  {
   "cell_type": "code",
   "execution_count": 2,
   "id": "offensive-essay",
   "metadata": {},
   "outputs": [
    {
     "data": {
      "text/plain": [
       "'abcefg123@$%abcabc'"
      ]
     },
     "execution_count": 2,
     "metadata": {},
     "output_type": "execute_result"
    }
   ],
   "source": [
    "g.lower()"
   ]
  },
  {
   "cell_type": "code",
   "execution_count": 3,
   "id": "dimensional-information",
   "metadata": {},
   "outputs": [
    {
     "data": {
      "text/plain": [
       "18"
      ]
     },
     "execution_count": 3,
     "metadata": {},
     "output_type": "execute_result"
    }
   ],
   "source": [
    "len(g)"
   ]
  },
  {
   "cell_type": "code",
   "execution_count": 17,
   "id": "stunning-church",
   "metadata": {},
   "outputs": [
    {
     "name": "stdout",
     "output_type": "stream",
     "text": [
      "ABCefg123@$%ABCabc\n",
      "ABCefg123@$%ABCabc\n",
      "ABCefg123@$%ABCabc\n",
      "ABCefg123@$%ABCabc\n",
      "ABCefg123@$%ABCabc\n",
      "ABCefg123@$%ABCabc\n",
      "ABCefg123@$%ABCabc\n",
      "ABCefg123@$%ABCabc\n",
      "ABCefg123@$%ABCabc\n",
      "ABCefg123@$%ABCabc\n",
      "ABCefg123@$%ABCabc\n",
      "ABCefg123@$%ABCabc\n",
      "ABCefg123@$%ABCabc\n",
      "ABCefg123@$%ABCabc\n",
      "ABCefg123@$%ABCabc\n",
      "ABCefg123@$%ABCabc\n",
      "ABCefg123@$%ABCabc\n",
      "ABCefg123@$%ABCabc\n"
     ]
    }
   ],
   "source": [
    "g='ABCefg123@$%ABCabc'\n",
    "len(g)\n",
    "for i in g:\n",
    "    if g.isdigit:\n",
    "        print(g)\n",
    "\n",
    "     \n",
    "        "
   ]
  },
  {
   "cell_type": "code",
   "execution_count": 24,
   "id": "removed-hypothesis",
   "metadata": {},
   "outputs": [],
   "source": [
    "l1=['hello','world',555,2.21,200.200,26,'rvr',[1,2,34,5,6]]\n",
    "l1.extend([1,2,3,4,3])\n"
   ]
  },
  {
   "cell_type": "code",
   "execution_count": 25,
   "id": "purple-recording",
   "metadata": {},
   "outputs": [
    {
     "name": "stdout",
     "output_type": "stream",
     "text": [
      "['hello', 'world', 555, 2.21, 200.2, 26, 'rvr', [1, 2, 34, 5, 6], 1, 2, 3, 4, 3]\n"
     ]
    }
   ],
   "source": [
    "print(l1)"
   ]
  },
  {
   "cell_type": "code",
   "execution_count": 23,
   "id": "correct-annual",
   "metadata": {},
   "outputs": [
    {
     "data": {
      "text/plain": [
       "1"
      ]
     },
     "execution_count": 23,
     "metadata": {},
     "output_type": "execute_result"
    }
   ],
   "source": [
    "l1.index('world')"
   ]
  },
  {
   "cell_type": "code",
   "execution_count": 28,
   "id": "mysterious-geometry",
   "metadata": {},
   "outputs": [
    {
     "data": {
      "text/plain": [
       "11"
      ]
     },
     "execution_count": 28,
     "metadata": {},
     "output_type": "execute_result"
    }
   ],
   "source": [
    "l1.index(3)"
   ]
  },
  {
   "cell_type": "code",
   "execution_count": 33,
   "id": "placed-plasma",
   "metadata": {},
   "outputs": [],
   "source": [
    "l1.insert(0,'sddc')"
   ]
  },
  {
   "cell_type": "code",
   "execution_count": 34,
   "id": "palestinian-brisbane",
   "metadata": {},
   "outputs": [
    {
     "name": "stdout",
     "output_type": "stream",
     "text": [
      "['sddc', 'sddc', 'hello', 'world', 555, 2.21, 200.2, 26, 'rvr', [1, 2, 34, 5, 6], 1, 2, 3, 4, 3]"
     ]
    }
   ],
   "source": [
    "print(l1,end='')"
   ]
  },
  {
   "cell_type": "code",
   "execution_count": 35,
   "id": "indonesian-usage",
   "metadata": {},
   "outputs": [
    {
     "data": {
      "text/plain": [
       "3"
      ]
     },
     "execution_count": 35,
     "metadata": {},
     "output_type": "execute_result"
    }
   ],
   "source": [
    "l1[-1]"
   ]
  },
  {
   "cell_type": "code",
   "execution_count": 39,
   "id": "emotional-northwest",
   "metadata": {},
   "outputs": [],
   "source": [
    "l1.append('python')"
   ]
  },
  {
   "cell_type": "code",
   "execution_count": 37,
   "id": "expensive-aruba",
   "metadata": {},
   "outputs": [
    {
     "name": "stdout",
     "output_type": "stream",
     "text": [
      "['sddc', 'sddc', 'hello', 'world', 555, 2.21, 200.2, 26, 'rvr', [1, 2, 34, 5, 6], 1, 2, 3, 4, 3, 'python']"
     ]
    }
   ],
   "source": [
    "print(l1,end='')"
   ]
  },
  {
   "cell_type": "code",
   "execution_count": 41,
   "id": "naked-checkout",
   "metadata": {},
   "outputs": [
    {
     "data": {
      "text/plain": [
       "'python'"
      ]
     },
     "execution_count": 41,
     "metadata": {},
     "output_type": "execute_result"
    }
   ],
   "source": [
    "l1.pop() # last element removed"
   ]
  },
  {
   "cell_type": "code",
   "execution_count": 42,
   "id": "lightweight-jacksonville",
   "metadata": {},
   "outputs": [
    {
     "name": "stdout",
     "output_type": "stream",
     "text": [
      "['sddc', 'sddc', 'hello', 'world', 555, 2.21, 200.2, 26, 'rvr', [1, 2, 34, 5, 6], 1, 2, 3, 4, 3]"
     ]
    }
   ],
   "source": [
    "print(l1,end='')"
   ]
  },
  {
   "cell_type": "code",
   "execution_count": 43,
   "id": "provincial-threat",
   "metadata": {},
   "outputs": [
    {
     "data": {
      "text/plain": [
       "3"
      ]
     },
     "execution_count": 43,
     "metadata": {},
     "output_type": "execute_result"
    }
   ],
   "source": [
    "l1.pop()"
   ]
  },
  {
   "cell_type": "code",
   "execution_count": 45,
   "id": "coral-arthur",
   "metadata": {},
   "outputs": [
    {
     "name": "stdout",
     "output_type": "stream",
     "text": [
      "['sddc', 'sddc', 'hello', 'world', 555, 2.21, 200.2, 26, 'rvr', [1, 2, 34, 5, 6], 1, 2, 3, 4]"
     ]
    }
   ],
   "source": [
    "print(l1,end='')"
   ]
  },
  {
   "cell_type": "code",
   "execution_count": 46,
   "id": "super-canada",
   "metadata": {},
   "outputs": [],
   "source": [
    "l1.remove('sddc')"
   ]
  },
  {
   "cell_type": "code",
   "execution_count": 48,
   "id": "suited-ready",
   "metadata": {},
   "outputs": [
    {
     "name": "stdout",
     "output_type": "stream",
     "text": [
      "['sddc', 'hello', 'world', 555, 2.21, 200.2, 26, 'rvr', [1, 2, 34, 5, 6], 1, 2, 3, 4]"
     ]
    }
   ],
   "source": [
    "print(l1,end='')"
   ]
  },
  {
   "cell_type": "code",
   "execution_count": 54,
   "id": "scheduled-mitchell",
   "metadata": {},
   "outputs": [],
   "source": [
    "l1.clear()"
   ]
  },
  {
   "cell_type": "code",
   "execution_count": 55,
   "id": "macro-performer",
   "metadata": {},
   "outputs": [
    {
     "data": {
      "text/plain": [
       "[]"
      ]
     },
     "execution_count": 55,
     "metadata": {},
     "output_type": "execute_result"
    }
   ],
   "source": [
    "l1"
   ]
  },
  {
   "cell_type": "code",
   "execution_count": 56,
   "id": "fourth-coverage",
   "metadata": {},
   "outputs": [],
   "source": [
    "l1=['hello','world',555,2.21,200.200,26,'rvr',[1,2,34,5,6]]"
   ]
  },
  {
   "cell_type": "code",
   "execution_count": 57,
   "id": "varying-preliminary",
   "metadata": {},
   "outputs": [],
   "source": [
    "l1.reverse()"
   ]
  },
  {
   "cell_type": "code",
   "execution_count": 58,
   "id": "center-wholesale",
   "metadata": {},
   "outputs": [
    {
     "data": {
      "text/plain": [
       "[[1, 2, 34, 5, 6], 'rvr', 26, 200.2, 2.21, 555, 'world', 'hello']"
      ]
     },
     "execution_count": 58,
     "metadata": {},
     "output_type": "execute_result"
    }
   ],
   "source": [
    "l1"
   ]
  },
  {
   "cell_type": "code",
   "execution_count": 59,
   "id": "interested-coverage",
   "metadata": {},
   "outputs": [
    {
     "data": {
      "text/plain": [
       "['hello', 'world', 555, 2.21, 200.2, 26, 'rvr', [1, 2, 34, 5, 6]]"
      ]
     },
     "execution_count": 59,
     "metadata": {},
     "output_type": "execute_result"
    }
   ],
   "source": [
    "l1[::-1]"
   ]
  },
  {
   "cell_type": "code",
   "execution_count": 60,
   "id": "swedish-spiritual",
   "metadata": {},
   "outputs": [
    {
     "data": {
      "text/plain": [
       "['hello', 'world', 555, 2.21, 200.2, 26, 'rvr', [1, 2, 34, 5, 6]]"
      ]
     },
     "execution_count": 60,
     "metadata": {},
     "output_type": "execute_result"
    }
   ],
   "source": [
    "l1[::-1]"
   ]
  },
  {
   "cell_type": "code",
   "execution_count": 62,
   "id": "precious-kitty",
   "metadata": {},
   "outputs": [
    {
     "ename": "TypeError",
     "evalue": "'<' not supported between instances of 'str' and 'list'",
     "output_type": "error",
     "traceback": [
      "\u001b[1;31m---------------------------------------------------------------------------\u001b[0m",
      "\u001b[1;31mTypeError\u001b[0m                                 Traceback (most recent call last)",
      "\u001b[1;32m<ipython-input-62-b8f5f256bbcf>\u001b[0m in \u001b[0;36m<module>\u001b[1;34m\u001b[0m\n\u001b[1;32m----> 1\u001b[1;33m \u001b[0ml1\u001b[0m\u001b[1;33m.\u001b[0m\u001b[0msort\u001b[0m\u001b[1;33m(\u001b[0m\u001b[1;33m)\u001b[0m\u001b[1;33m\u001b[0m\u001b[1;33m\u001b[0m\u001b[0m\n\u001b[0m",
      "\u001b[1;31mTypeError\u001b[0m: '<' not supported between instances of 'str' and 'list'"
     ]
    }
   ],
   "source": [
    "l1.sort()"
   ]
  },
  {
   "cell_type": "code",
   "execution_count": 64,
   "id": "bronze-nigeria",
   "metadata": {},
   "outputs": [],
   "source": [
    "name=['hello','world','of','python']"
   ]
  },
  {
   "cell_type": "code",
   "execution_count": 66,
   "id": "progressive-convert",
   "metadata": {},
   "outputs": [],
   "source": [
    "name.sort()"
   ]
  },
  {
   "cell_type": "markdown",
   "id": "spiritual-amazon",
   "metadata": {},
   "source": []
  },
  {
   "cell_type": "code",
   "execution_count": 67,
   "id": "certified-banks",
   "metadata": {},
   "outputs": [
    {
     "data": {
      "text/plain": [
       "['hello', 'of', 'python', 'world']"
      ]
     },
     "execution_count": 67,
     "metadata": {},
     "output_type": "execute_result"
    }
   ],
   "source": [
    "name"
   ]
  },
  {
   "cell_type": "code",
   "execution_count": 70,
   "id": "wooden-arkansas",
   "metadata": {},
   "outputs": [
    {
     "name": "stdout",
     "output_type": "stream",
     "text": [
      "[1, 2, 3, 4, 5, 6]\n"
     ]
    }
   ],
   "source": [
    "n=[1,2,3,4,5,6]\n",
    "n.sort()\n",
    "print(n)"
   ]
  },
  {
   "cell_type": "code",
   "execution_count": 71,
   "id": "absent-liquid",
   "metadata": {},
   "outputs": [
    {
     "name": "stdout",
     "output_type": "stream",
     "text": [
      "[6, 5, 4, 3, 2, 1]\n"
     ]
    }
   ],
   "source": [
    "n.sort(reverse = True)\n",
    "print(n)"
   ]
  },
  {
   "cell_type": "code",
   "execution_count": 74,
   "id": "multiple-province",
   "metadata": {},
   "outputs": [
    {
     "name": "stdout",
     "output_type": "stream",
     "text": [
      "[1, 2, 3, 4, 5, 6]\n"
     ]
    }
   ],
   "source": [
    "n=[1,2,3,4,5,6]\n",
    "n.sort(reverse = False)\n",
    "print(n)"
   ]
  },
  {
   "cell_type": "code",
   "execution_count": 100,
   "id": "valid-trail",
   "metadata": {},
   "outputs": [
    {
     "name": "stdout",
     "output_type": "stream",
     "text": [
      "[1, 2, 3, 4, 5]\n",
      "['\"hello\"', '\"world\"', '\"python\"']\n"
     ]
    }
   ],
   "source": [
    "# Task\n",
    "a = '1,2,3,4,5,\"hello\",\"world\",\"python\"' # input \n",
    "num=[]\n",
    "name=[]\n",
    "\n",
    "# Output [1,2,3,4,5] [\"hello\",\"world\",\"python\"]\n",
    "a=a.split(',')\n",
    "for i in a:\n",
    "    if i.isdigit():\n",
    "        num.append(int(i))\n",
    "    else:\n",
    "        name.append(i)\n",
    "        \n",
    "print(num)\n",
    "print(name)\n",
    "    \n",
    "    \n",
    "        \n",
    "    "
   ]
  },
  {
   "cell_type": "code",
   "execution_count": 101,
   "id": "natural-complement",
   "metadata": {},
   "outputs": [
    {
     "ename": "IndexError",
     "evalue": "list index out of range",
     "output_type": "error",
     "traceback": [
      "\u001b[1;31m---------------------------------------------------------------------------\u001b[0m",
      "\u001b[1;31mIndexError\u001b[0m                                Traceback (most recent call last)",
      "\u001b[1;32m<ipython-input-101-b8e9f98f28f7>\u001b[0m in \u001b[0;36m<module>\u001b[1;34m\u001b[0m\n\u001b[0;32m      2\u001b[0m \u001b[0mi\u001b[0m\u001b[1;33m=\u001b[0m\u001b[1;36m0\u001b[0m\u001b[1;33m\u001b[0m\u001b[1;33m\u001b[0m\u001b[0m\n\u001b[0;32m      3\u001b[0m \u001b[1;32mfor\u001b[0m \u001b[0mi\u001b[0m \u001b[1;32min\u001b[0m \u001b[0mn\u001b[0m\u001b[1;33m:\u001b[0m\u001b[1;33m\u001b[0m\u001b[1;33m\u001b[0m\u001b[0m\n\u001b[1;32m----> 4\u001b[1;33m     \u001b[1;32mif\u001b[0m \u001b[1;33m(\u001b[0m\u001b[0mn\u001b[0m\u001b[1;33m[\u001b[0m\u001b[0mi\u001b[0m\u001b[1;33m]\u001b[0m\u001b[1;33m>\u001b[0m\u001b[0mn\u001b[0m\u001b[1;33m[\u001b[0m\u001b[0mi\u001b[0m\u001b[1;33m+\u001b[0m\u001b[1;36m1\u001b[0m\u001b[1;33m]\u001b[0m\u001b[1;33m)\u001b[0m\u001b[1;33m:\u001b[0m\u001b[1;33m\u001b[0m\u001b[1;33m\u001b[0m\u001b[0m\n\u001b[0m\u001b[0;32m      5\u001b[0m         \u001b[0mt\u001b[0m\u001b[1;33m=\u001b[0m\u001b[0mn\u001b[0m\u001b[1;33m[\u001b[0m\u001b[0mi\u001b[0m\u001b[1;33m]\u001b[0m\u001b[1;33m\u001b[0m\u001b[1;33m\u001b[0m\u001b[0m\n\u001b[0;32m      6\u001b[0m         \u001b[0mn\u001b[0m\u001b[1;33m[\u001b[0m\u001b[0mi\u001b[0m\u001b[1;33m]\u001b[0m\u001b[1;33m=\u001b[0m\u001b[0mn\u001b[0m\u001b[1;33m[\u001b[0m\u001b[0mi\u001b[0m\u001b[1;33m+\u001b[0m\u001b[1;36m1\u001b[0m\u001b[1;33m]\u001b[0m\u001b[1;33m\u001b[0m\u001b[1;33m\u001b[0m\u001b[0m\n",
      "\u001b[1;31mIndexError\u001b[0m: list index out of range"
     ]
    }
   ],
   "source": [
    "n=[1,20,3,4,5,6]\n",
    "i=0\n",
    "for i in n:\n",
    "    if (n[i]>n[i+1]):\n",
    "        t=n[i]\n",
    "        n[i]=n[i+1]\n",
    "        n[i+1]=t\n",
    "print(n)\n",
    "        \n"
   ]
  },
  {
   "cell_type": "markdown",
   "id": "severe-vegetarian",
   "metadata": {},
   "source": [
    "### Tuple\n",
    " - Tuple is immutable(can't change value) \n",
    " - List is mutable\n",
    " - denotes() or tuple()"
   ]
  },
  {
   "cell_type": "code",
   "execution_count": 102,
   "id": "driving-heaven",
   "metadata": {},
   "outputs": [
    {
     "name": "stdout",
     "output_type": "stream",
     "text": [
      "('sdc', 123, 24, 22, 'apssdc', 2.0)\n"
     ]
    }
   ],
   "source": [
    "a= (\"sdc\",123,24,22,'apssdc',2.0)\n",
    "print(a)"
   ]
  },
  {
   "cell_type": "code",
   "execution_count": 103,
   "id": "empty-anthropology",
   "metadata": {},
   "outputs": [
    {
     "data": {
      "text/plain": [
       "tuple"
      ]
     },
     "execution_count": 103,
     "metadata": {},
     "output_type": "execute_result"
    }
   ],
   "source": [
    "type(a)"
   ]
  },
  {
   "cell_type": "code",
   "execution_count": 104,
   "id": "coated-definition",
   "metadata": {},
   "outputs": [
    {
     "data": {
      "text/plain": [
       "['__add__',\n",
       " '__class__',\n",
       " '__contains__',\n",
       " '__delattr__',\n",
       " '__dir__',\n",
       " '__doc__',\n",
       " '__eq__',\n",
       " '__format__',\n",
       " '__ge__',\n",
       " '__getattribute__',\n",
       " '__getitem__',\n",
       " '__getnewargs__',\n",
       " '__gt__',\n",
       " '__hash__',\n",
       " '__init__',\n",
       " '__init_subclass__',\n",
       " '__iter__',\n",
       " '__le__',\n",
       " '__len__',\n",
       " '__lt__',\n",
       " '__mul__',\n",
       " '__ne__',\n",
       " '__new__',\n",
       " '__reduce__',\n",
       " '__reduce_ex__',\n",
       " '__repr__',\n",
       " '__rmul__',\n",
       " '__setattr__',\n",
       " '__sizeof__',\n",
       " '__str__',\n",
       " '__subclasshook__',\n",
       " 'count',\n",
       " 'index']"
      ]
     },
     "execution_count": 104,
     "metadata": {},
     "output_type": "execute_result"
    }
   ],
   "source": [
    "dir(a)"
   ]
  },
  {
   "cell_type": "code",
   "execution_count": 106,
   "id": "curious-southeast",
   "metadata": {},
   "outputs": [
    {
     "data": {
      "text/plain": [
       "1"
      ]
     },
     "execution_count": 106,
     "metadata": {},
     "output_type": "execute_result"
    }
   ],
   "source": [
    "a.count('sdc')"
   ]
  },
  {
   "cell_type": "code",
   "execution_count": 107,
   "id": "approved-hobby",
   "metadata": {},
   "outputs": [
    {
     "data": {
      "text/plain": [
       "3"
      ]
     },
     "execution_count": 107,
     "metadata": {},
     "output_type": "execute_result"
    }
   ],
   "source": [
    "a.index(22)"
   ]
  },
  {
   "cell_type": "code",
   "execution_count": 108,
   "id": "alone-entrance",
   "metadata": {},
   "outputs": [
    {
     "data": {
      "text/plain": [
       "2.0"
      ]
     },
     "execution_count": 108,
     "metadata": {},
     "output_type": "execute_result"
    }
   ],
   "source": [
    "a[-1]"
   ]
  },
  {
   "cell_type": "code",
   "execution_count": 109,
   "id": "interested-diploma",
   "metadata": {},
   "outputs": [
    {
     "data": {
      "text/plain": [
       "123"
      ]
     },
     "execution_count": 109,
     "metadata": {},
     "output_type": "execute_result"
    }
   ],
   "source": [
    "a[1]"
   ]
  },
  {
   "cell_type": "code",
   "execution_count": 110,
   "id": "living-phone",
   "metadata": {},
   "outputs": [
    {
     "data": {
      "text/plain": [
       "['sdc', 123, 24, 22, 'apssdc', 2.0]"
      ]
     },
     "execution_count": 110,
     "metadata": {},
     "output_type": "execute_result"
    }
   ],
   "source": [
    "list(a)"
   ]
  },
  {
   "cell_type": "code",
   "execution_count": 111,
   "id": "floral-median",
   "metadata": {},
   "outputs": [],
   "source": [
    "b=list(a)"
   ]
  },
  {
   "cell_type": "code",
   "execution_count": 112,
   "id": "developmental-classification",
   "metadata": {},
   "outputs": [
    {
     "data": {
      "text/plain": [
       "['sdc', 123, 24, 22, 'apssdc', 2.0]"
      ]
     },
     "execution_count": 112,
     "metadata": {},
     "output_type": "execute_result"
    }
   ],
   "source": [
    "b"
   ]
  },
  {
   "cell_type": "code",
   "execution_count": 113,
   "id": "spoken-elephant",
   "metadata": {},
   "outputs": [],
   "source": [
    "b.append('hello')"
   ]
  },
  {
   "cell_type": "code",
   "execution_count": 114,
   "id": "roman-abraham",
   "metadata": {},
   "outputs": [
    {
     "data": {
      "text/plain": [
       "['sdc', 123, 24, 22, 'apssdc', 2.0, 'hello']"
      ]
     },
     "execution_count": 114,
     "metadata": {},
     "output_type": "execute_result"
    }
   ],
   "source": [
    "b"
   ]
  },
  {
   "cell_type": "code",
   "execution_count": 116,
   "id": "baking-amino",
   "metadata": {},
   "outputs": [
    {
     "data": {
      "text/plain": [
       "('sdc', 123, 24, 22, 'apssdc', 2.0, 'hello')"
      ]
     },
     "execution_count": 116,
     "metadata": {},
     "output_type": "execute_result"
    }
   ],
   "source": [
    "tuple(b) # list to tuple"
   ]
  },
  {
   "cell_type": "markdown",
   "id": "important-stability",
   "metadata": {},
   "source": [
    "### Dictionaries\n",
    " - having key and values \n",
    " - denoted {key:value}\n",
    " - dict()"
   ]
  },
  {
   "cell_type": "code",
   "execution_count": 127,
   "id": "civilian-specific",
   "metadata": {},
   "outputs": [
    {
     "name": "stdout",
     "output_type": "stream",
     "text": [
      "{1: 'one', 2: 'two', 'three': 3, 4: 4.0}\n"
     ]
    }
   ],
   "source": [
    "g={1:\"one\",2:\"two\",\"three\":3,4:4.0}\n",
    "print(g)"
   ]
  },
  {
   "cell_type": "code",
   "execution_count": 120,
   "id": "regular-singer",
   "metadata": {},
   "outputs": [
    {
     "data": {
      "text/plain": [
       "dict"
      ]
     },
     "execution_count": 120,
     "metadata": {},
     "output_type": "execute_result"
    }
   ],
   "source": [
    "type(g)"
   ]
  },
  {
   "cell_type": "code",
   "execution_count": 121,
   "id": "welcome-setup",
   "metadata": {},
   "outputs": [
    {
     "data": {
      "text/plain": [
       "'one'"
      ]
     },
     "execution_count": 121,
     "metadata": {},
     "output_type": "execute_result"
    }
   ],
   "source": [
    "g[1]"
   ]
  },
  {
   "cell_type": "code",
   "execution_count": 122,
   "id": "collectible-summary",
   "metadata": {},
   "outputs": [
    {
     "ename": "KeyError",
     "evalue": "'one'",
     "output_type": "error",
     "traceback": [
      "\u001b[1;31m---------------------------------------------------------------------------\u001b[0m",
      "\u001b[1;31mKeyError\u001b[0m                                  Traceback (most recent call last)",
      "\u001b[1;32m<ipython-input-122-ad93c89b84f6>\u001b[0m in \u001b[0;36m<module>\u001b[1;34m\u001b[0m\n\u001b[1;32m----> 1\u001b[1;33m \u001b[0mg\u001b[0m\u001b[1;33m[\u001b[0m\u001b[1;34m\"one\"\u001b[0m\u001b[1;33m]\u001b[0m\u001b[1;33m\u001b[0m\u001b[1;33m\u001b[0m\u001b[0m\n\u001b[0m",
      "\u001b[1;31mKeyError\u001b[0m: 'one'"
     ]
    }
   ],
   "source": [
    "g[\"one\"]"
   ]
  },
  {
   "cell_type": "code",
   "execution_count": 123,
   "id": "constant-selling",
   "metadata": {},
   "outputs": [
    {
     "data": {
      "text/plain": [
       "3"
      ]
     },
     "execution_count": 123,
     "metadata": {},
     "output_type": "execute_result"
    }
   ],
   "source": [
    "g[\"three\"]"
   ]
  },
  {
   "cell_type": "code",
   "execution_count": 124,
   "id": "electrical-cosmetic",
   "metadata": {},
   "outputs": [
    {
     "data": {
      "text/plain": [
       "'two'"
      ]
     },
     "execution_count": 124,
     "metadata": {},
     "output_type": "execute_result"
    }
   ],
   "source": [
    "g[2]"
   ]
  },
  {
   "cell_type": "code",
   "execution_count": 125,
   "id": "dental-drink",
   "metadata": {},
   "outputs": [
    {
     "data": {
      "text/plain": [
       "4.0"
      ]
     },
     "execution_count": 125,
     "metadata": {},
     "output_type": "execute_result"
    }
   ],
   "source": [
    "g[4]"
   ]
  },
  {
   "cell_type": "code",
   "execution_count": 128,
   "id": "diagnostic-zealand",
   "metadata": {},
   "outputs": [
    {
     "data": {
      "text/plain": [
       "['__class__',\n",
       " '__contains__',\n",
       " '__delattr__',\n",
       " '__delitem__',\n",
       " '__dir__',\n",
       " '__doc__',\n",
       " '__eq__',\n",
       " '__format__',\n",
       " '__ge__',\n",
       " '__getattribute__',\n",
       " '__getitem__',\n",
       " '__gt__',\n",
       " '__hash__',\n",
       " '__init__',\n",
       " '__init_subclass__',\n",
       " '__iter__',\n",
       " '__le__',\n",
       " '__len__',\n",
       " '__lt__',\n",
       " '__ne__',\n",
       " '__new__',\n",
       " '__reduce__',\n",
       " '__reduce_ex__',\n",
       " '__repr__',\n",
       " '__reversed__',\n",
       " '__setattr__',\n",
       " '__setitem__',\n",
       " '__sizeof__',\n",
       " '__str__',\n",
       " '__subclasshook__',\n",
       " 'clear',\n",
       " 'copy',\n",
       " 'fromkeys',\n",
       " 'get',\n",
       " 'items',\n",
       " 'keys',\n",
       " 'pop',\n",
       " 'popitem',\n",
       " 'setdefault',\n",
       " 'update',\n",
       " 'values']"
      ]
     },
     "execution_count": 128,
     "metadata": {},
     "output_type": "execute_result"
    }
   ],
   "source": [
    "dir(g)"
   ]
  },
  {
   "cell_type": "code",
   "execution_count": 129,
   "id": "fallen-stupid",
   "metadata": {},
   "outputs": [
    {
     "data": {
      "text/plain": [
       "dict_keys([1, 2, 'three', 4])"
      ]
     },
     "execution_count": 129,
     "metadata": {},
     "output_type": "execute_result"
    }
   ],
   "source": [
    "g.keys()"
   ]
  },
  {
   "cell_type": "code",
   "execution_count": 130,
   "id": "controlled-scratch",
   "metadata": {},
   "outputs": [
    {
     "data": {
      "text/plain": [
       "dict_values(['one', 'two', 3, 4.0])"
      ]
     },
     "execution_count": 130,
     "metadata": {},
     "output_type": "execute_result"
    }
   ],
   "source": [
    "g.values()"
   ]
  },
  {
   "cell_type": "code",
   "execution_count": 133,
   "id": "flexible-static",
   "metadata": {},
   "outputs": [
    {
     "data": {
      "text/plain": [
       "'one'"
      ]
     },
     "execution_count": 133,
     "metadata": {},
     "output_type": "execute_result"
    }
   ],
   "source": [
    "g.get(1)"
   ]
  },
  {
   "cell_type": "code",
   "execution_count": 134,
   "id": "absent-desktop",
   "metadata": {},
   "outputs": [
    {
     "data": {
      "text/plain": [
       "dict_items([(1, 'one'), (2, 'two'), ('three', 3), (4, 4.0)])"
      ]
     },
     "execution_count": 134,
     "metadata": {},
     "output_type": "execute_result"
    }
   ],
   "source": [
    "g.items()"
   ]
  },
  {
   "cell_type": "code",
   "execution_count": 136,
   "id": "wicked-noise",
   "metadata": {},
   "outputs": [
    {
     "data": {
      "text/plain": [
       "'one'"
      ]
     },
     "execution_count": 136,
     "metadata": {},
     "output_type": "execute_result"
    }
   ],
   "source": [
    "g.pop(1)"
   ]
  },
  {
   "cell_type": "code",
   "execution_count": 139,
   "id": "foster-pharmaceutical",
   "metadata": {},
   "outputs": [
    {
     "data": {
      "text/plain": [
       "(4, 4.0)"
      ]
     },
     "execution_count": 139,
     "metadata": {},
     "output_type": "execute_result"
    }
   ],
   "source": [
    "g.popitem()"
   ]
  },
  {
   "cell_type": "code",
   "execution_count": 140,
   "id": "fabulous-kruger",
   "metadata": {},
   "outputs": [
    {
     "data": {
      "text/plain": [
       "{2: 'two', 'three': 3}"
      ]
     },
     "execution_count": 140,
     "metadata": {},
     "output_type": "execute_result"
    }
   ],
   "source": [
    "g"
   ]
  },
  {
   "cell_type": "code",
   "execution_count": 151,
   "id": "distributed-elements",
   "metadata": {},
   "outputs": [
    {
     "ename": "SyntaxError",
     "evalue": "invalid syntax (<ipython-input-151-a623d636c7a2>, line 1)",
     "output_type": "error",
     "traceback": [
      "\u001b[1;36m  File \u001b[1;32m\"<ipython-input-151-a623d636c7a2>\"\u001b[1;36m, line \u001b[1;32m1\u001b[0m\n\u001b[1;33m    g.update(2;'hello')\u001b[0m\n\u001b[1;37m              ^\u001b[0m\n\u001b[1;31mSyntaxError\u001b[0m\u001b[1;31m:\u001b[0m invalid syntax\n"
     ]
    }
   ],
   "source": [
    "g.update(2;'hello')"
   ]
  },
  {
   "cell_type": "code",
   "execution_count": 159,
   "id": "equal-acquisition",
   "metadata": {},
   "outputs": [],
   "source": [
    "\n",
    "g.update({2:'456'})\n"
   ]
  },
  {
   "cell_type": "code",
   "execution_count": 160,
   "id": "cathedral-setting",
   "metadata": {},
   "outputs": [
    {
     "data": {
      "text/plain": [
       "{2: '456', 'three': 3}"
      ]
     },
     "execution_count": 160,
     "metadata": {},
     "output_type": "execute_result"
    }
   ],
   "source": [
    "g"
   ]
  },
  {
   "cell_type": "code",
   "execution_count": 172,
   "id": "middle-check",
   "metadata": {},
   "outputs": [
    {
     "data": {
      "text/plain": [
       "{'hello': None, 2: None}"
      ]
     },
     "execution_count": 172,
     "metadata": {},
     "output_type": "execute_result"
    }
   ],
   "source": [
    "g.fromkeys({2,'hello'})"
   ]
  },
  {
   "cell_type": "code",
   "execution_count": 174,
   "id": "improving-judges",
   "metadata": {},
   "outputs": [
    {
     "data": {
      "text/plain": [
       "{2: '456', 'three': 3}"
      ]
     },
     "execution_count": 174,
     "metadata": {},
     "output_type": "execute_result"
    }
   ],
   "source": [
    "g"
   ]
  },
  {
   "cell_type": "code",
   "execution_count": 182,
   "id": "senior-steering",
   "metadata": {},
   "outputs": [],
   "source": [
    "d={}\n",
    "a={1,2,3,4}\n",
    "g=d.fromkeys(a,'hello')\n",
    "g[2]='welcome'"
   ]
  },
  {
   "cell_type": "code",
   "execution_count": 183,
   "id": "blond-oxford",
   "metadata": {},
   "outputs": [
    {
     "data": {
      "text/plain": [
       "{1: 'hello', 2: 'welcome', 3: 'hello', 4: 'hello'}"
      ]
     },
     "execution_count": 183,
     "metadata": {},
     "output_type": "execute_result"
    }
   ],
   "source": [
    "g"
   ]
  },
  {
   "cell_type": "code",
   "execution_count": 184,
   "id": "social-rebel",
   "metadata": {},
   "outputs": [
    {
     "data": {
      "text/plain": [
       "{1: 'hello', 2: 'welcome', 3: 'RVRJC', 4: 'hello'}"
      ]
     },
     "execution_count": 184,
     "metadata": {},
     "output_type": "execute_result"
    }
   ],
   "source": [
    "g[3]='RVRJC'\n",
    "g"
   ]
  },
  {
   "cell_type": "code",
   "execution_count": 186,
   "id": "tough-vessel",
   "metadata": {},
   "outputs": [
    {
     "data": {
      "text/plain": [
       "{1: None, 2: None, 3: None, 4: None}"
      ]
     },
     "execution_count": 186,
     "metadata": {},
     "output_type": "execute_result"
    }
   ],
   "source": [
    "g=d.fromkeys(a)\n",
    "g"
   ]
  },
  {
   "cell_type": "code",
   "execution_count": 187,
   "id": "killing-sierra",
   "metadata": {},
   "outputs": [],
   "source": [
    "g.clear()"
   ]
  },
  {
   "cell_type": "code",
   "execution_count": 188,
   "id": "terminal-cathedral",
   "metadata": {},
   "outputs": [
    {
     "data": {
      "text/plain": [
       "{}"
      ]
     },
     "execution_count": 188,
     "metadata": {},
     "output_type": "execute_result"
    }
   ],
   "source": [
    "g"
   ]
  },
  {
   "cell_type": "code",
   "execution_count": null,
   "id": "musical-crown",
   "metadata": {},
   "outputs": [],
   "source": []
  }
 ],
 "metadata": {
  "kernelspec": {
   "display_name": "Python 3",
   "language": "python",
   "name": "python3"
  },
  "language_info": {
   "codemirror_mode": {
    "name": "ipython",
    "version": 3
   },
   "file_extension": ".py",
   "mimetype": "text/x-python",
   "name": "python",
   "nbconvert_exporter": "python",
   "pygments_lexer": "ipython3",
   "version": "3.8.0"
  }
 },
 "nbformat": 4,
 "nbformat_minor": 5
}
