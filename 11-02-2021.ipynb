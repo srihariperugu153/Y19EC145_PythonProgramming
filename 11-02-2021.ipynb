{
 "cells": [
  {
   "cell_type": "code",
   "execution_count": 3,
   "id": "verified-render",
   "metadata": {},
   "outputs": [
    {
     "name": "stdout",
     "output_type": "stream",
     "text": [
      "ab_123c@123@gmail.com\n",
      "ramu.mandava@gmail.com\n",
      "abc123@gmailacom\n"
     ]
    }
   ],
   "source": [
    "import re\n",
    "pattren ='^[A-Za-z0-9].{4,15}(@gmail.com)$'\n",
    "emails=['ab_123c@123@gmail.com','ramu.mandava@gmail.com','_abc@gmail.com','abc123@gmailacom']\n",
    "for email in emails:\n",
    "    if re.match(pattren,email):\n",
    "        print(email)"
   ]
  },
  {
   "cell_type": "code",
   "execution_count": 4,
   "id": "instructional-happening",
   "metadata": {},
   "outputs": [
    {
     "name": "stdout",
     "output_type": "stream",
     "text": [
      "ab_123c@123@gmail.com\n",
      "ramu.mandava@gmail.com\n"
     ]
    }
   ],
   "source": [
    "import re\n",
    "pattren ='^[A-Za-z0-9].{4,15}(@gmail\\.com)$'\n",
    "emails=['ab_123c@123@gmail.com','ramu.mandava@gmail.com','_abc@gmail.com','abc123@gmailacom']\n",
    "for email in emails:\n",
    "    if re.match(pattren,email):\n",
    "        print(email)"
   ]
  },
  {
   "cell_type": "markdown",
   "id": "trying-carrier",
   "metadata": {},
   "source": [
    "### OOPS\n",
    " - class: collection of variables(properties) and methods(actions)\n",
    " \n",
    "    ` class ClassName`\n",
    "    \n",
    " - object : physical entity of a class \n",
    " \n",
    "   `var=ClassName()`\n",
    "    ` "
   ]
  },
  {
   "cell_type": "code",
   "execution_count": 10,
   "id": "thorough-jaguar",
   "metadata": {},
   "outputs": [],
   "source": [
    "class student:  # creation of class\n",
    "    pass"
   ]
  },
  {
   "cell_type": "code",
   "execution_count": 11,
   "id": "infrared-usage",
   "metadata": {},
   "outputs": [],
   "source": [
    "s = student()  # creation of object\n"
   ]
  },
  {
   "cell_type": "code",
   "execution_count": 12,
   "id": "sophisticated-calgary",
   "metadata": {},
   "outputs": [
    {
     "data": {
      "text/plain": [
       "['__class__',\n",
       " '__delattr__',\n",
       " '__dict__',\n",
       " '__dir__',\n",
       " '__doc__',\n",
       " '__eq__',\n",
       " '__format__',\n",
       " '__ge__',\n",
       " '__getattribute__',\n",
       " '__gt__',\n",
       " '__hash__',\n",
       " '__init__',\n",
       " '__init_subclass__',\n",
       " '__le__',\n",
       " '__lt__',\n",
       " '__module__',\n",
       " '__ne__',\n",
       " '__new__',\n",
       " '__reduce__',\n",
       " '__reduce_ex__',\n",
       " '__repr__',\n",
       " '__setattr__',\n",
       " '__sizeof__',\n",
       " '__str__',\n",
       " '__subclasshook__',\n",
       " '__weakref__']"
      ]
     },
     "execution_count": 12,
     "metadata": {},
     "output_type": "execute_result"
    }
   ],
   "source": [
    "dir(s)"
   ]
  },
  {
   "cell_type": "code",
   "execution_count": 18,
   "id": "fifth-cheat",
   "metadata": {},
   "outputs": [
    {
     "data": {
      "text/plain": [
       "'Ramu'"
      ]
     },
     "execution_count": 18,
     "metadata": {},
     "output_type": "execute_result"
    }
   ],
   "source": [
    "class student:  \n",
    "    name ='Ramu'\n",
    "    rollNo =123\n",
    "student.name"
   ]
  },
  {
   "cell_type": "code",
   "execution_count": 15,
   "id": "inside-workplace",
   "metadata": {},
   "outputs": [
    {
     "data": {
      "text/plain": [
       "'Ramu'"
      ]
     },
     "execution_count": 15,
     "metadata": {},
     "output_type": "execute_result"
    }
   ],
   "source": [
    "s= student()  # creation of object\n",
    "s.name"
   ]
  },
  {
   "cell_type": "code",
   "execution_count": 19,
   "id": "strong-exercise",
   "metadata": {},
   "outputs": [
    {
     "data": {
      "text/plain": [
       "123"
      ]
     },
     "execution_count": 19,
     "metadata": {},
     "output_type": "execute_result"
    }
   ],
   "source": [
    "student.rollNo"
   ]
  },
  {
   "cell_type": "code",
   "execution_count": 20,
   "id": "assumed-garden",
   "metadata": {},
   "outputs": [
    {
     "data": {
      "text/plain": [
       "123"
      ]
     },
     "execution_count": 20,
     "metadata": {},
     "output_type": "execute_result"
    }
   ],
   "source": [
    "s.rollNo"
   ]
  },
  {
   "cell_type": "code",
   "execution_count": 32,
   "id": "precise-telescope",
   "metadata": {},
   "outputs": [
    {
     "data": {
      "text/plain": [
       "123"
      ]
     },
     "execution_count": 32,
     "metadata": {},
     "output_type": "execute_result"
    }
   ],
   "source": [
    "class student:  \n",
    "    name ='Ramu'\n",
    "    rollNo =123\n",
    "    def Display(self):\n",
    "        print('hello',student.name)\n",
    "        print('rollNo is:',student.rollNo)\n",
    "student.name\n",
    "student.rollNo"
   ]
  },
  {
   "cell_type": "code",
   "execution_count": 33,
   "id": "going-scotland",
   "metadata": {},
   "outputs": [
    {
     "name": "stdout",
     "output_type": "stream",
     "text": [
      "hello Ramu\n",
      "rollNo is: 123\n"
     ]
    }
   ],
   "source": [
    "s=student()\n",
    "s.name\n",
    "s.rollNo\n",
    "s.Display()"
   ]
  },
  {
   "cell_type": "code",
   "execution_count": 38,
   "id": "aware-serum",
   "metadata": {},
   "outputs": [],
   "source": [
    "# constructer: special method will executed at the time of object craetion\n",
    "# def__init__(self)\n",
    "class student:\n",
    "    def __init__(self,name,branch):\n",
    "        print('constructor executed..')\n",
    "        self.name = name\n",
    "        self.branch = branch\n",
    "    def details(self):\n",
    "        print('hello:',self.name)\n",
    "        print('branch:',self.branch)\n",
    "        print('method execution..')"
   ]
  },
  {
   "cell_type": "code",
   "execution_count": 39,
   "id": "homeless-polymer",
   "metadata": {},
   "outputs": [
    {
     "name": "stdout",
     "output_type": "stream",
     "text": [
      "enter name:hari\n",
      "enter branch:cde\n",
      "constructor executed..\n",
      "hello: hari\n",
      "branch: cde\n",
      "method execution..\n"
     ]
    }
   ],
   "source": [
    "name=input('enter name:')\n",
    "branch=input('enter branch:')\n",
    "s=student(name,branch)\n",
    "s.details()"
   ]
  },
  {
   "cell_type": "code",
   "execution_count": 40,
   "id": "collective-kenya",
   "metadata": {},
   "outputs": [],
   "source": [
    "import sample"
   ]
  },
  {
   "cell_type": "code",
   "execution_count": 41,
   "id": "beneficial-bridges",
   "metadata": {},
   "outputs": [
    {
     "data": {
      "text/plain": [
       "' This module consists of all arthemetic operations'"
      ]
     },
     "execution_count": 41,
     "metadata": {},
     "output_type": "execute_result"
    }
   ],
   "source": [
    "sample.__doc__"
   ]
  },
  {
   "cell_type": "code",
   "execution_count": 42,
   "id": "agricultural-discretion",
   "metadata": {},
   "outputs": [
    {
     "data": {
      "text/plain": [
       "['Add',\n",
       " '__builtins__',\n",
       " '__cached__',\n",
       " '__doc__',\n",
       " '__file__',\n",
       " '__loader__',\n",
       " '__name__',\n",
       " '__package__',\n",
       " '__spec__',\n",
       " 'div',\n",
       " 'mul',\n",
       " 'sub']"
      ]
     },
     "execution_count": 42,
     "metadata": {},
     "output_type": "execute_result"
    }
   ],
   "source": [
    "dir(sample)"
   ]
  },
  {
   "cell_type": "code",
   "execution_count": 45,
   "id": "maritime-porter",
   "metadata": {},
   "outputs": [
    {
     "data": {
      "text/plain": [
       "'C:\\\\Users\\\\APSSDC-RVRJC\\\\Desktop\\\\PYTHON_PROGRAMMING\\\\sample.py'"
      ]
     },
     "execution_count": 45,
     "metadata": {},
     "output_type": "execute_result"
    }
   ],
   "source": [
    "sample.__file__"
   ]
  },
  {
   "cell_type": "code",
   "execution_count": 50,
   "id": "capable-sellers",
   "metadata": {},
   "outputs": [
    {
     "data": {
      "text/plain": [
       "263000"
      ]
     },
     "execution_count": 50,
     "metadata": {},
     "output_type": "execute_result"
    }
   ],
   "source": [
    "sample.Add(221454,41545,1)"
   ]
  },
  {
   "cell_type": "code",
   "execution_count": 52,
   "id": "found-joyce",
   "metadata": {},
   "outputs": [
    {
     "data": {
      "text/plain": [
       "3"
      ]
     },
     "execution_count": 52,
     "metadata": {},
     "output_type": "execute_result"
    }
   ],
   "source": [
    "sample.sub(4,1)"
   ]
  },
  {
   "cell_type": "code",
   "execution_count": 54,
   "id": "positive-moderator",
   "metadata": {},
   "outputs": [
    {
     "data": {
      "text/plain": [
       "20"
      ]
     },
     "execution_count": 54,
     "metadata": {},
     "output_type": "execute_result"
    }
   ],
   "source": [
    "sample.mul(4,5)"
   ]
  },
  {
   "cell_type": "code",
   "execution_count": 58,
   "id": "catholic-shield",
   "metadata": {},
   "outputs": [
    {
     "data": {
      "text/plain": [
       "2.5"
      ]
     },
     "execution_count": 58,
     "metadata": {},
     "output_type": "execute_result"
    }
   ],
   "source": [
    "sample.div(5,2.0)"
   ]
  },
  {
   "cell_type": "markdown",
   "id": "alike-lying",
   "metadata": {},
   "source": [
    "### Inheritance\n",
    " - getting the properties from parent class to child class\n",
    " - Has - A relatiion :\n",
    "     - creating the object of a parent class in child class\n",
    " - Is -A relation:\n",
    "     - directly pass the parent class"
   ]
  },
  {
   "cell_type": "code",
   "execution_count": 68,
   "id": "retired-health",
   "metadata": {},
   "outputs": [],
   "source": [
    "class parent:\n",
    "    money =1000000\n",
    "    land =10\n",
    "class child:\n",
    "    study = 'B Tech'\n",
    "    def __init__(self):\n",
    "        self.prop=parent()\n",
    "    def properties(self):\n",
    "        print('money of parent is:',self.prop.money)\n",
    "        print('land of parent is :',self.prop.land)\n",
    "        print('child property is:',child.study)"
   ]
  },
  {
   "cell_type": "code",
   "execution_count": 69,
   "id": "virtual-restriction",
   "metadata": {},
   "outputs": [
    {
     "name": "stdout",
     "output_type": "stream",
     "text": [
      "money of parent is: 1000000\n",
      "land of parent is : 10\n",
      "child property is: B Tech\n"
     ]
    }
   ],
   "source": [
    "c = child()\n",
    "c.properties()"
   ]
  },
  {
   "cell_type": "code",
   "execution_count": 70,
   "id": "amended-northern",
   "metadata": {},
   "outputs": [],
   "source": [
    "class parent:\n",
    "    money =1000000\n",
    "    land =10\n",
    "class child:\n",
    "    study = 'B Tech'"
   ]
  },
  {
   "cell_type": "code",
   "execution_count": 74,
   "id": "prompt-vienna",
   "metadata": {},
   "outputs": [
    {
     "data": {
      "text/plain": [
       "'B Tech'"
      ]
     },
     "execution_count": 74,
     "metadata": {},
     "output_type": "execute_result"
    }
   ],
   "source": [
    "c = child()\n",
    "c.study"
   ]
  },
  {
   "cell_type": "code",
   "execution_count": 77,
   "id": "communist-cherry",
   "metadata": {},
   "outputs": [
    {
     "data": {
      "text/plain": [
       "10"
      ]
     },
     "execution_count": 77,
     "metadata": {},
     "output_type": "execute_result"
    }
   ],
   "source": [
    "class p:\n",
    "    x=10\n",
    "    y=20\n",
    "class c(p):\n",
    "    z=80\n",
    "    a=40\n",
    "class sc(c):\n",
    "    b=45\n",
    "    c=67\n",
    "obj = sc()\n",
    "obj.x"
   ]
  },
  {
   "cell_type": "code",
   "execution_count": 79,
   "id": "burning-macintosh",
   "metadata": {},
   "outputs": [
    {
     "data": {
      "text/plain": [
       "80"
      ]
     },
     "execution_count": 79,
     "metadata": {},
     "output_type": "execute_result"
    }
   ],
   "source": [
    "obj.z"
   ]
  },
  {
   "cell_type": "code",
   "execution_count": 80,
   "id": "gothic-exploration",
   "metadata": {},
   "outputs": [
    {
     "data": {
      "text/plain": [
       "45"
      ]
     },
     "execution_count": 80,
     "metadata": {},
     "output_type": "execute_result"
    }
   ],
   "source": [
    "obj.b"
   ]
  },
  {
   "cell_type": "code",
   "execution_count": 86,
   "id": "photographic-connecticut",
   "metadata": {},
   "outputs": [
    {
     "data": {
      "text/plain": [
       "40"
      ]
     },
     "execution_count": 86,
     "metadata": {},
     "output_type": "execute_result"
    }
   ],
   "source": [
    "class p:\n",
    "    x=29\n",
    "class c1(p):\n",
    "    y=30\n",
    "class c2(p):\n",
    "    z=40\n",
    "ch1=c1()\n",
    "ch2=c2()\n",
    "ch2.z"
   ]
  },
  {
   "cell_type": "markdown",
   "id": "secret-accent",
   "metadata": {},
   "source": [
    "### polymarphasim\n",
    " - many forms:\n",
    " - one will do many operations\n",
    " - overloading:\n",
    "    - same name with different parameters\n",
    " - overriding:\n",
    "    - same name and parameters or arguments in different classes"
   ]
  },
  {
   "cell_type": "code",
   "execution_count": 93,
   "id": "fatty-parameter",
   "metadata": {},
   "outputs": [
    {
     "data": {
      "text/plain": [
       "'98'"
      ]
     },
     "execution_count": 93,
     "metadata": {},
     "output_type": "execute_result"
    }
   ],
   "source": [
    "'9'+'8'"
   ]
  },
  {
   "cell_type": "code",
   "execution_count": 92,
   "id": "second-finder",
   "metadata": {},
   "outputs": [
    {
     "data": {
      "text/plain": [
       "'99999999'"
      ]
     },
     "execution_count": 92,
     "metadata": {},
     "output_type": "execute_result"
    }
   ],
   "source": [
    "'9'*8"
   ]
  },
  {
   "cell_type": "code",
   "execution_count": 98,
   "id": "exposed-campbell",
   "metadata": {},
   "outputs": [
    {
     "name": "stdout",
     "output_type": "stream",
     "text": [
      "two arg method\n",
      "72\n"
     ]
    }
   ],
   "source": [
    "#  overloading method\n",
    "class poly:\n",
    "    def m1(self):\n",
    "        print('without arg method')\n",
    "    def m1(self,a):\n",
    "        print('one arg method')\n",
    "    def m1(self,a,b):\n",
    "        print('two arg method')\n",
    "        print(a*b)\n",
    "p = poly()\n",
    "p.m1(9,8)"
   ]
  },
  {
   "cell_type": "code",
   "execution_count": 105,
   "id": "revolutionary-health",
   "metadata": {},
   "outputs": [
    {
     "name": "stdout",
     "output_type": "stream",
     "text": [
      "6\n"
     ]
    }
   ],
   "source": [
    "# overwriting method\n",
    "from abc import *\n",
    "class A:\n",
    "    @abstractmethod\n",
    "    def m1(self,a,b):\n",
    "        print(a*b)\n",
    "class B:\n",
    "    def m1(self,a,b):\n",
    "        print(a+b)\n",
    "a = A()\n",
    "b = B()\n",
    "\n",
    "a.m1(2,3)\n",
    "        \n"
   ]
  },
  {
   "cell_type": "code",
   "execution_count": 103,
   "id": "first-ebony",
   "metadata": {},
   "outputs": [
    {
     "name": "stdout",
     "output_type": "stream",
     "text": [
      "16\n"
     ]
    }
   ],
   "source": [
    "b.m1(7,9)"
   ]
  },
  {
   "cell_type": "code",
   "execution_count": 108,
   "id": "labeled-amendment",
   "metadata": {},
   "outputs": [
    {
     "ename": "ModuleNotFoundError",
     "evalue": "No module named 'numpy'",
     "output_type": "error",
     "traceback": [
      "\u001b[1;31m---------------------------------------------------------------------------\u001b[0m",
      "\u001b[1;31mModuleNotFoundError\u001b[0m                       Traceback (most recent call last)",
      "\u001b[1;32m<ipython-input-108-0aa0b027fcb6>\u001b[0m in \u001b[0;36m<module>\u001b[1;34m\u001b[0m\n\u001b[1;32m----> 1\u001b[1;33m \u001b[1;32mimport\u001b[0m \u001b[0mnumpy\u001b[0m \u001b[1;32mas\u001b[0m \u001b[0mnp\u001b[0m\u001b[1;33m\u001b[0m\u001b[1;33m\u001b[0m\u001b[0m\n\u001b[0m",
      "\u001b[1;31mModuleNotFoundError\u001b[0m: No module named 'numpy'"
     ]
    }
   ],
   "source": [
    "import numpy as np"
   ]
  },
  {
   "cell_type": "code",
   "execution_count": 109,
   "id": "pressed-craps",
   "metadata": {},
   "outputs": [
    {
     "ename": "ModuleNotFoundError",
     "evalue": "No module named 'pandas'",
     "output_type": "error",
     "traceback": [
      "\u001b[1;31m---------------------------------------------------------------------------\u001b[0m",
      "\u001b[1;31mModuleNotFoundError\u001b[0m                       Traceback (most recent call last)",
      "\u001b[1;32m<ipython-input-109-7dd3504c366f>\u001b[0m in \u001b[0;36m<module>\u001b[1;34m\u001b[0m\n\u001b[1;32m----> 1\u001b[1;33m \u001b[1;32mimport\u001b[0m \u001b[0mpandas\u001b[0m \u001b[1;32mas\u001b[0m \u001b[0mpd\u001b[0m\u001b[1;33m\u001b[0m\u001b[1;33m\u001b[0m\u001b[0m\n\u001b[0m",
      "\u001b[1;31mModuleNotFoundError\u001b[0m: No module named 'pandas'"
     ]
    }
   ],
   "source": [
    "import pandas as pd"
   ]
  },
  {
   "cell_type": "code",
   "execution_count": 112,
   "id": "geological-commander",
   "metadata": {},
   "outputs": [
    {
     "ename": "ModuleNotFoundError",
     "evalue": "No module named 'matplotlib'",
     "output_type": "error",
     "traceback": [
      "\u001b[1;31m---------------------------------------------------------------------------\u001b[0m",
      "\u001b[1;31mModuleNotFoundError\u001b[0m                       Traceback (most recent call last)",
      "\u001b[1;32m<ipython-input-112-a0d2faabd9e9>\u001b[0m in \u001b[0;36m<module>\u001b[1;34m\u001b[0m\n\u001b[1;32m----> 1\u001b[1;33m \u001b[1;32mimport\u001b[0m \u001b[0mmatplotlib\u001b[0m\u001b[1;33m.\u001b[0m\u001b[0mpyplot\u001b[0m \u001b[1;32mas\u001b[0m \u001b[0mplt\u001b[0m\u001b[1;33m\u001b[0m\u001b[1;33m\u001b[0m\u001b[0m\n\u001b[0m",
      "\u001b[1;31mModuleNotFoundError\u001b[0m: No module named 'matplotlib'"
     ]
    }
   ],
   "source": [
    "import matplotlib.pyplot as plt"
   ]
  },
  {
   "cell_type": "code",
   "execution_count": 113,
   "id": "imperial-melbourne",
   "metadata": {},
   "outputs": [
    {
     "ename": "ModuleNotFoundError",
     "evalue": "No module named 'seaborn'",
     "output_type": "error",
     "traceback": [
      "\u001b[1;31m---------------------------------------------------------------------------\u001b[0m",
      "\u001b[1;31mModuleNotFoundError\u001b[0m                       Traceback (most recent call last)",
      "\u001b[1;32m<ipython-input-113-a84c0541e888>\u001b[0m in \u001b[0;36m<module>\u001b[1;34m\u001b[0m\n\u001b[1;32m----> 1\u001b[1;33m \u001b[1;32mimport\u001b[0m \u001b[0mseaborn\u001b[0m \u001b[1;32mas\u001b[0m \u001b[0msns\u001b[0m\u001b[1;33m\u001b[0m\u001b[1;33m\u001b[0m\u001b[0m\n\u001b[0m",
      "\u001b[1;31mModuleNotFoundError\u001b[0m: No module named 'seaborn'"
     ]
    }
   ],
   "source": [
    "import seaborn as sns"
   ]
  },
  {
   "cell_type": "code",
   "execution_count": 114,
   "id": "educated-paste",
   "metadata": {},
   "outputs": [
    {
     "name": "stdout",
     "output_type": "stream",
     "text": [
      "Collecting numpyNote: you may need to restart the kernel to use updated packages.\n"
     ]
    },
    {
     "name": "stderr",
     "output_type": "stream",
     "text": [
      "WARNING: You are using pip version 19.2.3, however version 21.0.1 is available.\n",
      "You should consider upgrading via the 'python -m pip install --upgrade pip' command.\n"
     ]
    },
    {
     "name": "stdout",
     "output_type": "stream",
     "text": [
      "\n",
      "  Downloading https://files.pythonhosted.org/packages/88/4a/db4d3d191d39ae5f63b830bdea1c2d41619e3a78af38fbe1d822ca0002da/numpy-1.20.1-cp38-cp38-win_amd64.whl (13.7MB)\n",
      "Installing collected packages: numpy\n",
      "Successfully installed numpy-1.20.1\n"
     ]
    }
   ],
   "source": [
    "pip install numpy"
   ]
  },
  {
   "cell_type": "code",
   "execution_count": 2,
   "id": "organic-state",
   "metadata": {},
   "outputs": [
    {
     "name": "stdout",
     "output_type": "stream",
     "text": [
      "Requirement already satisfied: pandas in c:\\users\\apssdc-rvrjc\\appdata\\local\\programs\\python\\python38\\lib\\site-packages (1.2.2)\n",
      "Requirement already satisfied: python-dateutil>=2.7.3 in c:\\users\\apssdc-rvrjc\\appdata\\local\\programs\\python\\python38\\lib\\site-packages (from pandas) (2.8.1)\n",
      "Requirement already satisfied: pytz>=2017.3 in c:\\users\\apssdc-rvrjc\\appdata\\local\\programs\\python\\python38\\lib\\site-packages (from pandas) (2021.1)\n",
      "Requirement already satisfied: numpy>=1.16.5 in c:\\users\\apssdc-rvrjc\\appdata\\local\\programs\\python\\python38\\lib\\site-packages (from pandas) (1.20.1)\n",
      "Requirement already satisfied: six>=1.5 in c:\\users\\apssdc-rvrjc\\appdata\\local\\programs\\python\\python38\\lib\\site-packages (from python-dateutil>=2.7.3->pandas) (1.15.0)\n",
      "Note: you may need to restart the kernel to use updated packages.\n"
     ]
    },
    {
     "name": "stderr",
     "output_type": "stream",
     "text": [
      "WARNING: You are using pip version 19.2.3, however version 21.0.1 is available.\n",
      "You should consider upgrading via the 'python -m pip install --upgrade pip' command.\n"
     ]
    }
   ],
   "source": [
    "pip install pandas"
   ]
  },
  {
   "cell_type": "code",
   "execution_count": 3,
   "id": "intimate-narrow",
   "metadata": {},
   "outputs": [
    {
     "name": "stdout",
     "output_type": "stream",
     "text": [
      "Collecting matplotlib.pyplot\n",
      "Note: you may need to restart the kernel to use updated packages.\n"
     ]
    },
    {
     "name": "stderr",
     "output_type": "stream",
     "text": [
      "  ERROR: Could not find a version that satisfies the requirement matplotlib.pyplot (from versions: none)\n",
      "ERROR: No matching distribution found for matplotlib.pyplot\n",
      "WARNING: You are using pip version 19.2.3, however version 21.0.1 is available.\n",
      "You should consider upgrading via the 'python -m pip install --upgrade pip' command.\n"
     ]
    }
   ],
   "source": [
    "pip install matplotlib.pyplot"
   ]
  },
  {
   "cell_type": "code",
   "execution_count": 4,
   "id": "strange-parliament",
   "metadata": {},
   "outputs": [
    {
     "name": "stdout",
     "output_type": "stream",
     "text": [
      "Collecting seaborn\n",
      "  Downloading https://files.pythonhosted.org/packages/68/ad/6c2406ae175f59ec616714e408979b674fe27b9587f79d59a528ddfbcd5b/seaborn-0.11.1-py3-none-any.whl (285kB)\n",
      "Requirement already satisfied: pandas>=0.23 in c:\\users\\apssdc-rvrjc\\appdata\\local\\programs\\python\\python38\\lib\\site-packages (from seaborn) (1.2.2)\n",
      "Requirement already satisfied: numpy>=1.15 in c:\\users\\apssdc-rvrjc\\appdata\\local\\programs\\python\\python38\\lib\\site-packages (from seaborn) (1.20.1)\n",
      "Collecting matplotlib>=2.2 (from seaborn)\n",
      "  Downloading https://files.pythonhosted.org/packages/85/31/5358cfbd8d88bc2efe1481d6f938e019697f0dc8222900a5ff46505bea36/matplotlib-3.3.4-cp38-cp38-win_amd64.whl (8.5MB)\n",
      "Collecting scipy>=1.0 (from seaborn)\n",
      "  Downloading https://files.pythonhosted.org/packages/a1/05/9b41f6a969a0d6ad36732bdd3c936434228dafaa829932be5a51574e4958/scipy-1.6.0-cp38-cp38-win_amd64.whl (32.7MB)\n",
      "Requirement already satisfied: pytz>=2017.3 in c:\\users\\apssdc-rvrjc\\appdata\\local\\programs\\python\\python38\\lib\\site-packages (from pandas>=0.23->seaborn) (2021.1)\n",
      "Requirement already satisfied: python-dateutil>=2.7.3 in c:\\users\\apssdc-rvrjc\\appdata\\local\\programs\\python\\python38\\lib\\site-packages (from pandas>=0.23->seaborn) (2.8.1)\n",
      "Collecting cycler>=0.10 (from matplotlib>=2.2->seaborn)\n",
      "  Using cached https://files.pythonhosted.org/packages/f7/d2/e07d3ebb2bd7af696440ce7e754c59dd546ffe1bbe732c8ab68b9c834e61/cycler-0.10.0-py2.py3-none-any.whl\n",
      "Requirement already satisfied: pyparsing!=2.0.4,!=2.1.2,!=2.1.6,>=2.0.3 in c:\\users\\apssdc-rvrjc\\appdata\\local\\programs\\python\\python38\\lib\\site-packages (from matplotlib>=2.2->seaborn) (2.4.7)\n",
      "Collecting pillow>=6.2.0 (from matplotlib>=2.2->seaborn)\n",
      "  Downloading https://files.pythonhosted.org/packages/96/93/77c2c7124a4df9176ce1f12a3e33db7a9881f82722afecdfb86c406170f8/Pillow-8.1.0-cp38-cp38-win_amd64.whl (2.2MB)\n",
      "Collecting kiwisolver>=1.0.1 (from matplotlib>=2.2->seaborn)\n",
      "  Downloading https://files.pythonhosted.org/packages/a8/be/9a8f1a59c94f99544366fd3680373ccd6cf6dcd504e02d504486e9f0943b/kiwisolver-1.3.1-cp38-cp38-win_amd64.whl (51kB)\n",
      "Requirement already satisfied: six>=1.5 in c:\\users\\apssdc-rvrjc\\appdata\\local\\programs\\python\\python38\\lib\\site-packages (from python-dateutil>=2.7.3->pandas>=0.23->seaborn) (1.15.0)\n",
      "Installing collected packages: cycler, pillow, kiwisolver, matplotlib, scipy, seaborn\n",
      "Successfully installed cycler-0.10.0 kiwisolver-1.3.1 matplotlib-3.3.4 pillow-8.1.0 scipy-1.6.0 seaborn-0.11.1\n",
      "Note: you may need to restart the kernel to use updated packages.\n"
     ]
    },
    {
     "name": "stderr",
     "output_type": "stream",
     "text": [
      "WARNING: You are using pip version 19.2.3, however version 21.0.1 is available.\n",
      "You should consider upgrading via the 'python -m pip install --upgrade pip' command.\n"
     ]
    }
   ],
   "source": [
    "pip install seaborn"
   ]
  },
  {
   "cell_type": "code",
   "execution_count": 5,
   "id": "annual-benefit",
   "metadata": {},
   "outputs": [],
   "source": [
    "import pandas as pds"
   ]
  },
  {
   "cell_type": "code",
   "execution_count": null,
   "id": "biological-optics",
   "metadata": {},
   "outputs": [],
   "source": []
  }
 ],
 "metadata": {
  "kernelspec": {
   "display_name": "Python 3",
   "language": "python",
   "name": "python3"
  },
  "language_info": {
   "codemirror_mode": {
    "name": "ipython",
    "version": 3
   },
   "file_extension": ".py",
   "mimetype": "text/x-python",
   "name": "python",
   "nbconvert_exporter": "python",
   "pygments_lexer": "ipython3",
   "version": "3.8.0"
  }
 },
 "nbformat": 4,
 "nbformat_minor": 5
}
